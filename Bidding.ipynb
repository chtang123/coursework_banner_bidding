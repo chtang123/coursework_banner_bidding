{
 "cells": [
  {
   "cell_type": "code",
   "execution_count": 151,
   "metadata": {
    "collapsed": true
   },
   "outputs": [],
   "source": [
    "import pandas as pd\n",
    "import numpy as np\n",
    "%matplotlib inline\n",
    "import matplotlib.pyplot as plt"
   ]
  },
  {
   "cell_type": "code",
   "execution_count": 152,
   "metadata": {
    "collapsed": false
   },
   "outputs": [],
   "source": [
    "#load train data and validation data\n",
    "val = pd.read_csv(\"file:///Users/chenbo/Desktop/UCL/WebEconomics/coursework/dataset/validation.csv\")\n",
    "#train = pd.read_csv(\"file:///Users/chenbo/Desktop/UCL/WebEconomics/coursework/dataset/train.csv\")\n",
    "#test =pd.read_csv(\"file:///Users/chenbo/Desktop/UCL/WebEconomics/coursework/dataset/test.csv\")"
   ]
  },
  {
   "cell_type": "code",
   "execution_count": 154,
   "metadata": {
    "collapsed": false
   },
   "outputs": [
    {
     "data": {
      "text/plain": [
       "300"
      ]
     },
     "execution_count": 154,
     "metadata": {},
     "output_type": "execute_result"
    }
   ],
   "source": [
    "max(val.bidprice)"
   ]
  },
  {
   "cell_type": "code",
   "execution_count": 81,
   "metadata": {
    "collapsed": false
   },
   "outputs": [
    {
     "data": {
      "text/plain": [
       "Index(['click', 'weekday', 'hour', 'bidid', 'logtype', 'userid', 'useragent',\n",
       "       'IP', 'region', 'city', 'adexchange', 'domain', 'url', 'urlid',\n",
       "       'slotid', 'slotwidth', 'slotheight', 'slotvisibility', 'slotformat',\n",
       "       'slotprice', 'creative', 'bidprice', 'payprice', 'keypage',\n",
       "       'advertiser', 'usertag'],\n",
       "      dtype='object')"
      ]
     },
     "execution_count": 81,
     "metadata": {},
     "output_type": "execute_result"
    }
   ],
   "source": [
    "train.columns"
   ]
  },
  {
   "cell_type": "code",
   "execution_count": 150,
   "metadata": {
    "collapsed": true
   },
   "outputs": [],
   "source": [
    "slot_click =train.pivot_table(index=['slotwidth'],columns='slotheight',values='click',aggfunc=np.sum)\n",
    "slot_impression =train.pivot_table(index=['slotwidth'],columns='slotheight',values='click',aggfunc='count')\n",
    "slot_ctr = slot_click/slot_impression"
   ]
  },
  {
   "cell_type": "code",
   "execution_count": 174,
   "metadata": {
    "collapsed": false
   },
   "outputs": [
    {
     "data": {
      "text/plain": [
       "<matplotlib.text.Text at 0x132e5ca58>"
      ]
     },
     "execution_count": 174,
     "metadata": {},
     "output_type": "execute_result"
    },
    {
     "data": {
      "image/png": "[encoded data removed]",
      "text/plain": [
       "<matplotlib.figure.Figure at 0x164353e80>"
      ]
     },
     "metadata": {},
     "output_type": "display_data"
    }
   ],
   "source": [
    "slotsize =['120x250','120x600','160x600','200x200','300x250','300x300','320x50','360x300','960x90']\n",
    "ctr_slot =[0.000235,0.000578,0.000609,0.000136,0.000825,0.010676,0.004607,0.002326,0.000588]\n",
    "index =[1,2,3,4,5,6,7,8,9]\n",
    "\n",
    "plt.bar(index,ctr_slot)\n",
    "plt.xticks(index, slotsize)\n",
    "plt.xlabel('Slot Size')\n",
    "plt.ylabel('CTR')\n",
    "plt.title('CTR per Slot Size')"
   ]
  },
  {
   "cell_type": "code",
   "execution_count": 84,
   "metadata": {
    "collapsed": false
   },
   "outputs": [
    {
     "data": {
      "text/plain": [
       "0    2695704\n",
       "1       2034\n",
       "Name: click, dtype: int64"
      ]
     },
     "execution_count": 84,
     "metadata": {},
     "output_type": "execute_result"
    }
   ],
   "source": [
    "train.click.value_counts()"
   ]
  },
  {
   "cell_type": "code",
   "execution_count": 193,
   "metadata": {
    "collapsed": false
   },
   "outputs": [],
   "source": [
    "advertiser_click =val.pivot_table(index=['advertiser'],values='click',aggfunc=np.sum)\n",
    "advertiser_impression =val.pivot_table(index=['advertiser'],values='click',aggfunc='count')\n",
    "advertiser_cost =val.pivot_table(index=['advertiser'],values='payprice',aggfunc='sum')"
   ]
  },
  {
   "cell_type": "code",
   "execution_count": 194,
   "metadata": {
    "collapsed": false
   },
   "outputs": [],
   "source": [
    "advertiser_ctr = advertiser_click/advertiser_impression\n",
    "advertiser_cpm = advertiser_cost/advertiser_impression\n",
    "advertiser_cpc = (advertiser_cost/advertiser_click)/1000"
   ]
  },
  {
   "cell_type": "code",
   "execution_count": 202,
   "metadata": {
    "collapsed": false
   },
   "outputs": [
    {
     "data": {
      "text/plain": [
       "advertiser\n",
       "1458     82.783700\n",
       "2259    138.150636\n",
       "2261    239.249800\n",
       "2821    142.590750\n",
       "2997     14.899385\n",
       "3358    115.771815\n",
       "3386    128.953515\n",
       "3427     90.609622\n",
       "3476    235.581000\n",
       "dtype: float64"
      ]
     },
     "execution_count": 202,
     "metadata": {},
     "output_type": "execute_result"
    }
   ],
   "source": [
    "advertiser_cpc"
   ]
  },
  {
   "cell_type": "code",
   "execution_count": 100,
   "metadata": {
    "collapsed": false
   },
   "outputs": [],
   "source": [
    "heat = day_click/day_impression"
   ]
  },
  {
   "cell_type": "code",
   "execution_count": 114,
   "metadata": {
    "collapsed": false
   },
   "outputs": [
    {
     "data": {
      "image/png": "[encoded data removed]",
      "text/plain": [
       "<matplotlib.figure.Figure at 0x147749ba8>"
      ]
     },
     "metadata": {},
     "output_type": "display_data"
    }
   ],
   "source": [
    "import seaborn as sb\n",
    "\n",
    "ax = sb.heatmap(heat,cmap=\"YlGnBu\")"
   ]
  },
  {
   "cell_type": "code",
   "execution_count": 115,
   "metadata": {
    "collapsed": false
   },
   "outputs": [],
   "source": [
    "city_click =train.pivot_table(index=['city'],values='click',aggfunc=np.sum)\n",
    "city_impression =train.pivot_table(index=['city'],values='click',aggfunc='count')\n",
    "city_ctr = city_click/city_impression"
   ]
  },
  {
   "cell_type": "code",
   "execution_count": null,
   "metadata": {
    "collapsed": true
   },
   "outputs": [],
   "source": []
  },
  {
   "cell_type": "code",
   "execution_count": 136,
   "metadata": {
    "collapsed": false
   },
   "outputs": [
    {
     "data": {
      "text/plain": [
       "[0.013513513513513514,\n",
       " 0.004608294930875576,\n",
       " 0.0038022813688212928,\n",
       " 0.0030120481927710845,\n",
       " 0.0025157232704402514,\n",
       " 0.0025000000000000001,\n",
       " 0.002277163305139883,\n",
       " 0.0022598870056497176,\n",
       " 0.0021289537712895377,\n",
       " 0.0020920502092050207,\n",
       " 0.0019801980198019802,\n",
       " 0.0019665683382497543,\n",
       " 0.001953125,\n",
       " 0.0018796992481203006,\n",
       " 0.0018467220683287165,\n",
       " 0.0018170805572380376,\n",
       " 0.0018104632288675241,\n",
       " 0.0018055973517905506,\n",
       " 0.0017761989342806395,\n",
       " 0.0017605633802816902,\n",
       " 0.001758312020460358,\n",
       " 0.0017101325352714834,\n",
       " 0.0016666666666666668,\n",
       " 0.001639344262295082,\n",
       " 0.0016233766233766235,\n",
       " 0.0016124697661918839,\n",
       " 0.0015813401858074719,\n",
       " 0.0015497869043006587,\n",
       " 0.0015376013419066256,\n",
       " 0.0015345268542199489,\n",
       " 0.0015157256536566881,\n",
       " 0.0014940239043824701,\n",
       " 0.001452960406828914,\n",
       " 0.0014471780028943559,\n",
       " 0.001443522194153735,\n",
       " 0.0014388489208633094,\n",
       " 0.0014367816091954023,\n",
       " 0.0014316392269148174,\n",
       " 0.0013953488372093023,\n",
       " 0.0013888888888888889,\n",
       " 0.0013784954706577393,\n",
       " 0.0013745704467353953,\n",
       " 0.0013605442176870747,\n",
       " 0.0013395847287340924,\n",
       " 0.00133422281521014,\n",
       " 0.0013315579227696406,\n",
       " 0.001321003963011889,\n",
       " 0.0013138446378715717,\n",
       " 0.0013095861707700367,\n",
       " 0.0012949174490126255,\n",
       " 0.0012832852101379532,\n",
       " 0.0012813941568426447,\n",
       " 0.0012790060295998539,\n",
       " 0.0012629451881788331,\n",
       " 0.0012594458438287153,\n",
       " 0.0012552301255230125,\n",
       " 0.0012372409526755336,\n",
       " 0.0012345679012345679,\n",
       " 0.0012117015752120478,\n",
       " 0.0012062726176115801,\n",
       " 0.0011860637509266123,\n",
       " 0.0011778563015312131,\n",
       " 0.0011605415860735009,\n",
       " 0.0011597564511452595,\n",
       " 0.0011560693641618498,\n",
       " 0.0011549566891241579,\n",
       " 0.0011536243030186503,\n",
       " 0.0011511895625479663,\n",
       " 0.0011479337193052506,\n",
       " 0.0011426939008713042,\n",
       " 0.0011407711613050423,\n",
       " 0.0011389521640091116,\n",
       " 0.0011299435028248588,\n",
       " 0.0011210762331838565,\n",
       " 0.0011173683740055421,\n",
       " 0.0011124243899047486,\n",
       " 0.0011098779134295228,\n",
       " 0.0011013215859030838,\n",
       " 0.0010997067448680353,\n",
       " 0.0010864841373315949,\n",
       " 0.0010822510822510823,\n",
       " 0.0010783608914450035,\n",
       " 0.001076426264800861,\n",
       " 0.0010755579456843238,\n",
       " 0.0010726736390453205,\n",
       " 0.0010726594921572764,\n",
       " 0.0010587612493382743,\n",
       " 0.0010587612493382743,\n",
       " 0.0010399334442595673,\n",
       " 0.0010371138602859472,\n",
       " 0.0010278304870335231,\n",
       " 0.0010277492291880781,\n",
       " 0.0010248001639680262,\n",
       " 0.0010188487009679063,\n",
       " 0.0010156150818839661,\n",
       " 0.0010123822132232692,\n",
       " 0.001009421265141319,\n",
       " 0.00099800399201596798,\n",
       " 0.00099734042553191482,\n",
       " 0.00098814229249011851,\n",
       " 0.00098755678451510967,\n",
       " 0.00098730606488011286,\n",
       " 0.00098684210526315793,\n",
       " 0.00098039215686274508,\n",
       " 0.00097943192948090111,\n",
       " 0.00097497562560935978,\n",
       " 0.00097481722177091793,\n",
       " 0.00097040271712760793,\n",
       " 0.00096789804807226971,\n",
       " 0.00096587250482936256,\n",
       " 0.00096571704490584255,\n",
       " 0.00096525096525096527,\n",
       " 0.00096292729898892631,\n",
       " 0.00096061479346781938,\n",
       " 0.00095923261390887292,\n",
       " 0.00094408895415923637,\n",
       " 0.00094390507011866238,\n",
       " 0.00094357425929420642,\n",
       " 0.0009372071227741331,\n",
       " 0.00093676814988290398,\n",
       " 0.00093001627528481749,\n",
       " 0.00092047128129602355,\n",
       " 0.00091371883566114087,\n",
       " 0.00091287148798052545,\n",
       " 0.00091199270405836752,\n",
       " 0.00090744101633393826,\n",
       " 0.00090661831368993653,\n",
       " 0.00090579710144927537,\n",
       " 0.00090415913200723324,\n",
       " 0.00090366889571660944,\n",
       " 0.0009025270758122744,\n",
       " 0.00090198436560432957,\n",
       " 0.00090037944562351279,\n",
       " 0.00089686098654708521,\n",
       " 0.00089365504915102768,\n",
       " 0.00088967971530249106,\n",
       " 0.00088417329796640137,\n",
       " 0.00088339222614840988,\n",
       " 0.00088121254846669017,\n",
       " 0.00087822014051522248,\n",
       " 0.00087702812754494766,\n",
       " 0.00087133313970374669,\n",
       " 0.00086864566810182042,\n",
       " 0.00086380650734235536,\n",
       " 0.00086364072545820939,\n",
       " 0.00085675119945167924,\n",
       " 0.00085640879246360268,\n",
       " 0.00084674005080440302,\n",
       " 0.00084263745523488519,\n",
       " 0.00084057158868030256,\n",
       " 0.00083333333333333339,\n",
       " 0.00082987551867219915,\n",
       " 0.0008271298593879239,\n",
       " 0.00082485565026120425,\n",
       " 0.00082101806239737272,\n",
       " 0.0008206811653672548,\n",
       " 0.00081874647092038393,\n",
       " 0.00081849805606711685,\n",
       " 0.00081699346405228761,\n",
       " 0.00081632653061224493,\n",
       " 0.00081037277147487841,\n",
       " 0.0008066955732580418,\n",
       " 0.00080348458578255173,\n",
       " 0.00079850944902848018,\n",
       " 0.00079485332472242233,\n",
       " 0.00079463345222035371,\n",
       " 0.00079407093700370566,\n",
       " 0.00079006772009029347,\n",
       " 0.00078802206461780935,\n",
       " 0.00078703703703703705,\n",
       " 0.00078570025535258301,\n",
       " 0.0007855459544383347,\n",
       " 0.00076982294072363352,\n",
       " 0.00076972418216805641,\n",
       " 0.00076893502499038834,\n",
       " 0.0007660878447395301,\n",
       " 0.00076103500761035003,\n",
       " 0.00075888985255854297,\n",
       " 0.00075625363583478762,\n",
       " 0.00075335241826126264,\n",
       " 0.00074971885542921403,\n",
       " 0.00074962518740629683,\n",
       " 0.00074906367041198505,\n",
       " 0.00074842296589329622,\n",
       " 0.00074766355140186912,\n",
       " 0.00074610625796623872,\n",
       " 0.00074447845148482091,\n",
       " 0.00073117231294174997,\n",
       " 0.00073046018991964939,\n",
       " 0.00072744907856450052,\n",
       " 0.0007265179034769071,\n",
       " 0.00072495287806292592,\n",
       " 0.00071902703366274123,\n",
       " 0.00071343638525564804,\n",
       " 0.00070746374248319773,\n",
       " 0.00070654733867169103,\n",
       " 0.0007001268980002625,\n",
       " 0.0006993006993006993,\n",
       " 0.00069516857838025723,\n",
       " 0.00069204152249134946,\n",
       " 0.0006872589820930854,\n",
       " 0.00068681318681318687,\n",
       " 0.00068530701754385961,\n",
       " 0.00068446269678302531,\n",
       " 0.00067842605156037987,\n",
       " 0.00067159167226326397,\n",
       " 0.00066994193836534166,\n",
       " 0.00066822586034079518,\n",
       " 0.00066430469441984053,\n",
       " 0.0006594131223211342,\n",
       " 0.00065688635865995186,\n",
       " 0.00065609622744669223,\n",
       " 0.00065227317200443541,\n",
       " 0.00065199674001629993,\n",
       " 0.00064935064935064935,\n",
       " 0.00064780824875836757,\n",
       " 0.00064672594987873894,\n",
       " 0.00064633407392445969,\n",
       " 0.00064010241638662183,\n",
       " 0.0006343283582089552,\n",
       " 0.00063011972274732201,\n",
       " 0.00062541145490454251,\n",
       " 0.00062410841654778884,\n",
       " 0.00062305295950155766,\n",
       " 0.00062247121070650485,\n",
       " 0.00061004541449196769,\n",
       " 0.00060929169840060924,\n",
       " 0.0006079489322896877,\n",
       " 0.00058708414872798433,\n",
       " 0.00058398220244716356,\n",
       " 0.00058360081704114382,\n",
       " 0.0005835156819839533,\n",
       " 0.00058105752469494478,\n",
       " 0.00057962614113896539,\n",
       " 0.00057836899942163096,\n",
       " 0.00057620282339383461,\n",
       " 0.000576036866359447,\n",
       " 0.00055988191581411923,\n",
       " 0.0005578022590991494,\n",
       " 0.00055694792536897797,\n",
       " 0.00055478502080443827,\n",
       " 0.00055416345412490358,\n",
       " 0.00055238445958387037,\n",
       " 0.00055093046033300689,\n",
       " 0.00055014710455186929,\n",
       " 0.00054960153888430885,\n",
       " 0.00054665719127535122,\n",
       " 0.00054083288263926451,\n",
       " 0.00053763440860215054,\n",
       " 0.00053418803418803424,\n",
       " 0.0005339028296849973,\n",
       " 0.00052700922266139653,\n",
       " 0.00052521008403361342,\n",
       " 0.00051475634866163353,\n",
       " 0.00050959741803974863,\n",
       " 0.00049810098997571752,\n",
       " 0.00049751243781094524,\n",
       " 0.00049751243781094524,\n",
       " 0.00049677098857426726,\n",
       " 0.00049261083743842361,\n",
       " 0.00048702736208270611,\n",
       " 0.00048623942429252165,\n",
       " 0.00048525367984040543,\n",
       " 0.00048216007714561236,\n",
       " 0.00047740292807129216,\n",
       " 0.0004657661853749418,\n",
       " 0.00046189376443418013,\n",
       " 0.00046061722708429296,\n",
       " 0.00045741469215991218,\n",
       " 0.00045610034207525655,\n",
       " 0.00045495905368516835,\n",
       " 0.000447127207690588,\n",
       " 0.00044091710758377423,\n",
       " 0.00043243243243243243,\n",
       " 0.00043019648397104449,\n",
       " 0.00042680324370465217,\n",
       " 0.00042406251893136246,\n",
       " 0.0004050222762251924,\n",
       " 0.00040241448692152917,\n",
       " 0.00039525691699604743,\n",
       " 0.0003942440370589395,\n",
       " 0.00039401103230890468,\n",
       " 0.00038933229511387972,\n",
       " 0.000384172109104879,\n",
       " 0.00038314176245210729,\n",
       " 0.0003816793893129771,\n",
       " 0.00036563071297989033,\n",
       " 0.00036483035388544326,\n",
       " 0.00035925992455541585,\n",
       " 0.00035752592062924561,\n",
       " 0.0003564427018356799,\n",
       " 0.00035236081747709656,\n",
       " 0.0003466204506065858,\n",
       " 0.00032938076416337287,\n",
       " 0.00032255983484936454,\n",
       " 0.00030339805825242716,\n",
       " 0.00030266343825665861,\n",
       " 0.00029355643622486422,\n",
       " 0.00029248318221702252,\n",
       " 0.00027917364600781687,\n",
       " 0.00026695141484249865,\n",
       " 0.00026688017080330931,\n",
       " 0.00024044241404183698,\n",
       " 0.00023668639053254438,\n",
       " 0.00023402761525860051,\n",
       " 0.00021335609131640709,\n",
       " 0.00017787264318747776,\n",
       " 0.00015103458692040478,\n",
       " 0.0,\n",
       " 0.0,\n",
       " 0.0,\n",
       " 0.0,\n",
       " 0.0,\n",
       " 0.0,\n",
       " 0.0,\n",
       " 0.0,\n",
       " 0.0,\n",
       " 0.0,\n",
       " 0.0,\n",
       " 0.0,\n",
       " 0.0,\n",
       " 0.0,\n",
       " 0.0,\n",
       " 0.0,\n",
       " 0.0,\n",
       " 0.0,\n",
       " 0.0,\n",
       " 0.0,\n",
       " 0.0,\n",
       " 0.0,\n",
       " 0.0,\n",
       " 0.0,\n",
       " 0.0,\n",
       " 0.0,\n",
       " 0.0,\n",
       " 0.0,\n",
       " 0.0,\n",
       " 0.0,\n",
       " 0.0,\n",
       " 0.0,\n",
       " 0.0,\n",
       " 0.0,\n",
       " 0.0,\n",
       " 0.0,\n",
       " 0.0,\n",
       " 0.0,\n",
       " 0.0,\n",
       " 0.0,\n",
       " 0.0,\n",
       " 0.0,\n",
       " 0.0,\n",
       " 0.0,\n",
       " 0.0,\n",
       " 0.0,\n",
       " 0.0,\n",
       " 0.0,\n",
       " 0.0,\n",
       " 0.0,\n",
       " 0.0,\n",
       " 0.0,\n",
       " 0.0,\n",
       " 0.0,\n",
       " 0.0,\n",
       " 0.0,\n",
       " 0.0,\n",
       " 0.0,\n",
       " 0.0,\n",
       " 0.0,\n",
       " 0.0,\n",
       " 0.0]"
      ]
     },
     "execution_count": 136,
     "metadata": {},
     "output_type": "execute_result"
    }
   ],
   "source": [
    "sorted(city_ctr,reverse=True)"
   ]
  },
  {
   "cell_type": "code",
   "execution_count": 125,
   "metadata": {
    "collapsed": false
   },
   "outputs": [
    {
     "data": {
      "text/plain": [
       "370"
      ]
     },
     "execution_count": 125,
     "metadata": {},
     "output_type": "execute_result"
    }
   ],
   "source": [
    "len(city_ctr)"
   ]
  },
  {
   "cell_type": "code",
   "execution_count": 132,
   "metadata": {
    "collapsed": false
   },
   "outputs": [
    {
     "data": {
      "text/plain": [
       "<matplotlib.text.Text at 0x190de8f60>"
      ]
     },
     "execution_count": 132,
     "metadata": {},
     "output_type": "execute_result"
    },
    {
     "data": {
      "image/png": "[encoded data removed]",
      "text/plain": [
       "<matplotlib.figure.Figure at 0x18eaedd30>"
      ]
     },
     "metadata": {},
     "output_type": "display_data"
    }
   ],
   "source": [
    "import seaborn\n",
    "city_ctr.plot(kind='hist',bins=100,xlim=(0,0.003))\n",
    "plt.xlabel('CTR')\n",
    "plt.title('CTR per City Histogram')"
   ]
  },
  {
   "cell_type": "code",
   "execution_count": 3,
   "metadata": {
    "collapsed": false
   },
   "outputs": [],
   "source": [
    "#用做index的栏\n",
    "col = ['userid','useragent','IP','domain','url','slotid','slotwidth','slotheight','slotvisibility','slotformat','creative','keypage','usertag','adexchange']\n",
    "\n",
    "train_in = train[col]\n",
    "val_in = val[col]\n",
    "test_in = test[col]"
   ]
  },
  {
   "cell_type": "code",
   "execution_count": 4,
   "metadata": {
    "collapsed": false
   },
   "outputs": [
    {
     "data": {
      "text/plain": [
       "(2697738, 299749, 299749)"
      ]
     },
     "execution_count": 4,
     "metadata": {},
     "output_type": "execute_result"
    }
   ],
   "source": [
    "len(train_in),len(val_in),len(test_in)"
   ]
  },
  {
   "cell_type": "code",
   "execution_count": 5,
   "metadata": {
    "collapsed": false
   },
   "outputs": [],
   "source": [
    "combine = pd.concat([train_in,val_in,test_in])"
   ]
  },
  {
   "cell_type": "code",
   "execution_count": 6,
   "metadata": {
    "collapsed": false
   },
   "outputs": [
    {
     "data": {
      "text/plain": [
       "3297236"
      ]
     },
     "execution_count": 6,
     "metadata": {},
     "output_type": "execute_result"
    }
   ],
   "source": [
    "len(combine)"
   ]
  },
  {
   "cell_type": "code",
   "execution_count": 7,
   "metadata": {
    "collapsed": true
   },
   "outputs": [],
   "source": [
    "def index_pre(a_list):\n",
    "    userid_n = []\n",
    "    userid_d = {}\n",
    "    index = 1\n",
    "\n",
    "    for user in a_list:\n",
    "        if user in userid_d.keys():\n",
    "            userid_n.append(userid_d[user])\n",
    "        else:\n",
    "            userid_d[user] = index\n",
    "            userid_n.append(userid_d[user])\n",
    "            index += 1\n",
    "    return userid_n"
   ]
  },
  {
   "cell_type": "code",
   "execution_count": 8,
   "metadata": {
    "collapsed": false
   },
   "outputs": [],
   "source": [
    "userid_number = index_pre(combine['userid'])\n",
    "useragent_number = index_pre(combine['useragent'])\n",
    "ip_number = index_pre(combine['IP'])\n",
    "domain_number = index_pre(combine.domain)\n",
    "url_number = index_pre(combine.url)\n",
    "slotid_number = index_pre(combine.slotid)\n",
    "slotwidth_number = index_pre(combine.slotwidth)\n",
    "slotheight_number = index_pre(combine.slotheight)\n",
    "slotvisibility_number = index_pre(combine.slotvisibility)\n",
    "slotformat_number = index_pre(combine.slotformat)\n",
    "creative_number = index_pre(combine.creative)\n",
    "keypage_number = index_pre(combine.keypage)\n",
    "adexchange_number = index_pre(combine.adexchange)"
   ]
  },
  {
   "cell_type": "code",
   "execution_count": 9,
   "metadata": {
    "collapsed": true
   },
   "outputs": [],
   "source": [
    "combine_index =  pd.DataFrame(\n",
    "    {'userid':userid_number,\n",
    "    'useragent':useragent_number,\n",
    "    'IP':ip_number,\n",
    "    'domain':domain_number,\n",
    "    'url':url_number,\n",
    "    'slotid':slotid_number,\n",
    "    'slotwidth':slotwidth_number,\n",
    "    'slotheight':slotheight_number,\n",
    "    'slotvisibility':slotvisibility_number,\n",
    "    'slotformat':slotformat_number,\n",
    "    'creative':creative_number,\n",
    "    'keypage':keypage_number,\n",
    "    'adexchange':adexchange_number}\n",
    "    )"
   ]
  },
  {
   "cell_type": "code",
   "execution_count": 10,
   "metadata": {
    "collapsed": false
   },
   "outputs": [
    {
     "data": {
      "text/plain": [
       "3297236"
      ]
     },
     "execution_count": 10,
     "metadata": {},
     "output_type": "execute_result"
    }
   ],
   "source": [
    "len(combine_index)"
   ]
  },
  {
   "cell_type": "code",
   "execution_count": 11,
   "metadata": {
    "collapsed": false
   },
   "outputs": [],
   "source": [
    "tags= []\n",
    "for usertag in combine.usertag:\n",
    "    for tag in usertag.split(','):\n",
    "        if tag not in tags:\n",
    "            tags.append(tag)"
   ]
  },
  {
   "cell_type": "code",
   "execution_count": 12,
   "metadata": {
    "collapsed": true
   },
   "outputs": [],
   "source": [
    "L = []\n",
    "for t in tags:\n",
    "    s = 'L'+t\n",
    "    L.append(s)"
   ]
  },
  {
   "cell_type": "code",
   "execution_count": 14,
   "metadata": {
    "collapsed": false
   },
   "outputs": [
    {
     "data": {
      "text/plain": [
       "69"
      ]
     },
     "execution_count": 14,
     "metadata": {},
     "output_type": "execute_result"
    }
   ],
   "source": [
    "len(L)"
   ]
  },
  {
   "cell_type": "code",
   "execution_count": 13,
   "metadata": {
    "collapsed": true
   },
   "outputs": [],
   "source": [
    "for i,t in enumerate(tags):\n",
    "    L[i]= []\n",
    "    for string in combine.usertag:\n",
    "        if string.find(t) < 0:\n",
    "            L[i].append(0)\n",
    "        else:\n",
    "            L[i].append(1)"
   ]
  },
  {
   "cell_type": "code",
   "execution_count": 15,
   "metadata": {
    "collapsed": true
   },
   "outputs": [],
   "source": [
    "df_tags = pd.DataFrame()\n",
    "for i in range(0,69):\n",
    "    se = pd.Series(L[i])\n",
    "    df_tags['tag'+str(i)] = se.values"
   ]
  },
  {
   "cell_type": "code",
   "execution_count": 16,
   "metadata": {
    "collapsed": false
   },
   "outputs": [],
   "source": [
    "index_data = pd.concat([combine_index, df_tags], axis=1)"
   ]
  },
  {
   "cell_type": "markdown",
   "metadata": {},
   "source": [
    "# 做好的combine index 分出来"
   ]
  },
  {
   "cell_type": "code",
   "execution_count": 17,
   "metadata": {
    "collapsed": true
   },
   "outputs": [],
   "source": [
    "index_train = index_data[:2697738]\n",
    "index_val = index_data[2697738:2697738 +299749]\n",
    "index_test = index_data[2697738 +299749:]"
   ]
  },
  {
   "cell_type": "code",
   "execution_count": 18,
   "metadata": {
    "collapsed": false
   },
   "outputs": [
    {
     "data": {
      "text/plain": [
       "3297236"
      ]
     },
     "execution_count": 18,
     "metadata": {},
     "output_type": "execute_result"
    }
   ],
   "source": [
    "len(index_data)"
   ]
  },
  {
   "cell_type": "code",
   "execution_count": 19,
   "metadata": {
    "collapsed": false
   },
   "outputs": [
    {
     "data": {
      "text/plain": [
       "(2697738, 299749, 299749)"
      ]
     },
     "execution_count": 19,
     "metadata": {},
     "output_type": "execute_result"
    }
   ],
   "source": [
    "len(index_train),len(index_val),len(index_test)"
   ]
  },
  {
   "cell_type": "code",
   "execution_count": 20,
   "metadata": {
    "collapsed": false
   },
   "outputs": [
    {
     "name": "stderr",
     "output_type": "stream",
     "text": [
      "/Users/chenbo/anaconda/lib/python3.5/site-packages/ipykernel/__main__.py:1: SettingWithCopyWarning: \n",
      "A value is trying to be set on a copy of a slice from a DataFrame.\n",
      "Try using .loc[row_indexer,col_indexer] = value instead\n",
      "\n",
      "See the caveats in the documentation: http://pandas.pydata.org/pandas-docs/stable/indexing.html#indexing-view-versus-copy\n",
      "  if __name__ == '__main__':\n",
      "/Users/chenbo/anaconda/lib/python3.5/site-packages/ipykernel/__main__.py:2: SettingWithCopyWarning: \n",
      "A value is trying to be set on a copy of a slice from a DataFrame.\n",
      "Try using .loc[row_indexer,col_indexer] = value instead\n",
      "\n",
      "See the caveats in the documentation: http://pandas.pydata.org/pandas-docs/stable/indexing.html#indexing-view-versus-copy\n",
      "  from ipykernel import kernelapp as app\n",
      "/Users/chenbo/anaconda/lib/python3.5/site-packages/ipykernel/__main__.py:3: SettingWithCopyWarning: \n",
      "A value is trying to be set on a copy of a slice from a DataFrame.\n",
      "Try using .loc[row_indexer,col_indexer] = value instead\n",
      "\n",
      "See the caveats in the documentation: http://pandas.pydata.org/pandas-docs/stable/indexing.html#indexing-view-versus-copy\n",
      "  app.launch_new_instance()\n",
      "/Users/chenbo/anaconda/lib/python3.5/site-packages/ipykernel/__main__.py:4: SettingWithCopyWarning: \n",
      "A value is trying to be set on a copy of a slice from a DataFrame.\n",
      "Try using .loc[row_indexer,col_indexer] = value instead\n",
      "\n",
      "See the caveats in the documentation: http://pandas.pydata.org/pandas-docs/stable/indexing.html#indexing-view-versus-copy\n",
      "/Users/chenbo/anaconda/lib/python3.5/site-packages/ipykernel/__main__.py:5: SettingWithCopyWarning: \n",
      "A value is trying to be set on a copy of a slice from a DataFrame.\n",
      "Try using .loc[row_indexer,col_indexer] = value instead\n",
      "\n",
      "See the caveats in the documentation: http://pandas.pydata.org/pandas-docs/stable/indexing.html#indexing-view-versus-copy\n",
      "/Users/chenbo/anaconda/lib/python3.5/site-packages/ipykernel/__main__.py:7: SettingWithCopyWarning: \n",
      "A value is trying to be set on a copy of a slice from a DataFrame.\n",
      "Try using .loc[row_indexer,col_indexer] = value instead\n",
      "\n",
      "See the caveats in the documentation: http://pandas.pydata.org/pandas-docs/stable/indexing.html#indexing-view-versus-copy\n",
      "/Users/chenbo/anaconda/lib/python3.5/site-packages/ipykernel/__main__.py:8: SettingWithCopyWarning: \n",
      "A value is trying to be set on a copy of a slice from a DataFrame.\n",
      "Try using .loc[row_indexer,col_indexer] = value instead\n",
      "\n",
      "See the caveats in the documentation: http://pandas.pydata.org/pandas-docs/stable/indexing.html#indexing-view-versus-copy\n",
      "/Users/chenbo/anaconda/lib/python3.5/site-packages/ipykernel/__main__.py:9: SettingWithCopyWarning: \n",
      "A value is trying to be set on a copy of a slice from a DataFrame.\n",
      "Try using .loc[row_indexer,col_indexer] = value instead\n",
      "\n",
      "See the caveats in the documentation: http://pandas.pydata.org/pandas-docs/stable/indexing.html#indexing-view-versus-copy\n",
      "/Users/chenbo/anaconda/lib/python3.5/site-packages/ipykernel/__main__.py:10: SettingWithCopyWarning: \n",
      "A value is trying to be set on a copy of a slice from a DataFrame.\n",
      "Try using .loc[row_indexer,col_indexer] = value instead\n",
      "\n",
      "See the caveats in the documentation: http://pandas.pydata.org/pandas-docs/stable/indexing.html#indexing-view-versus-copy\n"
     ]
    }
   ],
   "source": [
    "index_train['click'] = pd.Series(train.click).values\n",
    "index_train['weekday'] = pd.Series(train.weekday).values\n",
    "index_train['hour'] = pd.Series(train.hour).values\n",
    "index_train['region'] = pd.Series(train.region).values\n",
    "index_train['city'] = pd.Series(train.city).values\n",
    "#index_train['adexchange'] = pd.Series(train.adexchange).values\n",
    "index_train['slotprice'] = pd.Series(train.slotprice).values\n",
    "index_train['bidprice'] = pd.Series(train.bidprice).values\n",
    "index_train['payprice'] = pd.Series(train.payprice).values\n",
    "index_train['advertiser'] = pd.Series(train.advertiser).values\n"
   ]
  },
  {
   "cell_type": "code",
   "execution_count": 21,
   "metadata": {
    "collapsed": false
   },
   "outputs": [
    {
     "name": "stderr",
     "output_type": "stream",
     "text": [
      "/Users/chenbo/anaconda/lib/python3.5/site-packages/ipykernel/__main__.py:1: SettingWithCopyWarning: \n",
      "A value is trying to be set on a copy of a slice from a DataFrame.\n",
      "Try using .loc[row_indexer,col_indexer] = value instead\n",
      "\n",
      "See the caveats in the documentation: http://pandas.pydata.org/pandas-docs/stable/indexing.html#indexing-view-versus-copy\n",
      "  if __name__ == '__main__':\n",
      "/Users/chenbo/anaconda/lib/python3.5/site-packages/ipykernel/__main__.py:2: SettingWithCopyWarning: \n",
      "A value is trying to be set on a copy of a slice from a DataFrame.\n",
      "Try using .loc[row_indexer,col_indexer] = value instead\n",
      "\n",
      "See the caveats in the documentation: http://pandas.pydata.org/pandas-docs/stable/indexing.html#indexing-view-versus-copy\n",
      "  from ipykernel import kernelapp as app\n",
      "/Users/chenbo/anaconda/lib/python3.5/site-packages/ipykernel/__main__.py:3: SettingWithCopyWarning: \n",
      "A value is trying to be set on a copy of a slice from a DataFrame.\n",
      "Try using .loc[row_indexer,col_indexer] = value instead\n",
      "\n",
      "See the caveats in the documentation: http://pandas.pydata.org/pandas-docs/stable/indexing.html#indexing-view-versus-copy\n",
      "  app.launch_new_instance()\n",
      "/Users/chenbo/anaconda/lib/python3.5/site-packages/ipykernel/__main__.py:4: SettingWithCopyWarning: \n",
      "A value is trying to be set on a copy of a slice from a DataFrame.\n",
      "Try using .loc[row_indexer,col_indexer] = value instead\n",
      "\n",
      "See the caveats in the documentation: http://pandas.pydata.org/pandas-docs/stable/indexing.html#indexing-view-versus-copy\n",
      "/Users/chenbo/anaconda/lib/python3.5/site-packages/ipykernel/__main__.py:5: SettingWithCopyWarning: \n",
      "A value is trying to be set on a copy of a slice from a DataFrame.\n",
      "Try using .loc[row_indexer,col_indexer] = value instead\n",
      "\n",
      "See the caveats in the documentation: http://pandas.pydata.org/pandas-docs/stable/indexing.html#indexing-view-versus-copy\n",
      "/Users/chenbo/anaconda/lib/python3.5/site-packages/ipykernel/__main__.py:7: SettingWithCopyWarning: \n",
      "A value is trying to be set on a copy of a slice from a DataFrame.\n",
      "Try using .loc[row_indexer,col_indexer] = value instead\n",
      "\n",
      "See the caveats in the documentation: http://pandas.pydata.org/pandas-docs/stable/indexing.html#indexing-view-versus-copy\n",
      "/Users/chenbo/anaconda/lib/python3.5/site-packages/ipykernel/__main__.py:8: SettingWithCopyWarning: \n",
      "A value is trying to be set on a copy of a slice from a DataFrame.\n",
      "Try using .loc[row_indexer,col_indexer] = value instead\n",
      "\n",
      "See the caveats in the documentation: http://pandas.pydata.org/pandas-docs/stable/indexing.html#indexing-view-versus-copy\n",
      "/Users/chenbo/anaconda/lib/python3.5/site-packages/ipykernel/__main__.py:9: SettingWithCopyWarning: \n",
      "A value is trying to be set on a copy of a slice from a DataFrame.\n",
      "Try using .loc[row_indexer,col_indexer] = value instead\n",
      "\n",
      "See the caveats in the documentation: http://pandas.pydata.org/pandas-docs/stable/indexing.html#indexing-view-versus-copy\n",
      "/Users/chenbo/anaconda/lib/python3.5/site-packages/ipykernel/__main__.py:10: SettingWithCopyWarning: \n",
      "A value is trying to be set on a copy of a slice from a DataFrame.\n",
      "Try using .loc[row_indexer,col_indexer] = value instead\n",
      "\n",
      "See the caveats in the documentation: http://pandas.pydata.org/pandas-docs/stable/indexing.html#indexing-view-versus-copy\n"
     ]
    }
   ],
   "source": [
    "index_val['click'] = pd.Series(val.click).values\n",
    "index_val['weekday'] = pd.Series(val.weekday).values\n",
    "index_val['hour'] = pd.Series(val.hour).values\n",
    "index_val['region'] = pd.Series(val.region).values\n",
    "index_val['city'] = pd.Series(val.city).values\n",
    "#index_val['adexchange'] = pd.Series(val.adexchange).values\n",
    "index_val['slotprice'] = pd.Series(val.slotprice).values\n",
    "index_val['bidprice'] = pd.Series(val.bidprice).values\n",
    "index_val['payprice'] = pd.Series(val.payprice).values\n",
    "index_val['advertiser'] = pd.Series(val.advertiser).values\n"
   ]
  },
  {
   "cell_type": "code",
   "execution_count": 22,
   "metadata": {
    "collapsed": false
   },
   "outputs": [
    {
     "name": "stderr",
     "output_type": "stream",
     "text": [
      "/Users/chenbo/anaconda/lib/python3.5/site-packages/ipykernel/__main__.py:1: SettingWithCopyWarning: \n",
      "A value is trying to be set on a copy of a slice from a DataFrame.\n",
      "Try using .loc[row_indexer,col_indexer] = value instead\n",
      "\n",
      "See the caveats in the documentation: http://pandas.pydata.org/pandas-docs/stable/indexing.html#indexing-view-versus-copy\n",
      "  if __name__ == '__main__':\n",
      "/Users/chenbo/anaconda/lib/python3.5/site-packages/ipykernel/__main__.py:2: SettingWithCopyWarning: \n",
      "A value is trying to be set on a copy of a slice from a DataFrame.\n",
      "Try using .loc[row_indexer,col_indexer] = value instead\n",
      "\n",
      "See the caveats in the documentation: http://pandas.pydata.org/pandas-docs/stable/indexing.html#indexing-view-versus-copy\n",
      "  from ipykernel import kernelapp as app\n",
      "/Users/chenbo/anaconda/lib/python3.5/site-packages/ipykernel/__main__.py:3: SettingWithCopyWarning: \n",
      "A value is trying to be set on a copy of a slice from a DataFrame.\n",
      "Try using .loc[row_indexer,col_indexer] = value instead\n",
      "\n",
      "See the caveats in the documentation: http://pandas.pydata.org/pandas-docs/stable/indexing.html#indexing-view-versus-copy\n",
      "  app.launch_new_instance()\n",
      "/Users/chenbo/anaconda/lib/python3.5/site-packages/ipykernel/__main__.py:4: SettingWithCopyWarning: \n",
      "A value is trying to be set on a copy of a slice from a DataFrame.\n",
      "Try using .loc[row_indexer,col_indexer] = value instead\n",
      "\n",
      "See the caveats in the documentation: http://pandas.pydata.org/pandas-docs/stable/indexing.html#indexing-view-versus-copy\n",
      "/Users/chenbo/anaconda/lib/python3.5/site-packages/ipykernel/__main__.py:6: SettingWithCopyWarning: \n",
      "A value is trying to be set on a copy of a slice from a DataFrame.\n",
      "Try using .loc[row_indexer,col_indexer] = value instead\n",
      "\n",
      "See the caveats in the documentation: http://pandas.pydata.org/pandas-docs/stable/indexing.html#indexing-view-versus-copy\n",
      "/Users/chenbo/anaconda/lib/python3.5/site-packages/ipykernel/__main__.py:7: SettingWithCopyWarning: \n",
      "A value is trying to be set on a copy of a slice from a DataFrame.\n",
      "Try using .loc[row_indexer,col_indexer] = value instead\n",
      "\n",
      "See the caveats in the documentation: http://pandas.pydata.org/pandas-docs/stable/indexing.html#indexing-view-versus-copy\n"
     ]
    }
   ],
   "source": [
    "index_test['weekday'] = pd.Series(test.weekday).values\n",
    "index_test['hour'] = pd.Series(test.hour).values\n",
    "index_test['region'] = pd.Series(test.region).values\n",
    "index_test['city'] = pd.Series(test.city).values\n",
    "#index_test['adexchange'] = pd.Series(test.adexchange).values\n",
    "index_test['slotprice'] = pd.Series(test.slotprice).values\n",
    "index_test['advertiser'] = pd.Series(test.advertiser).values\n"
   ]
  },
  {
   "cell_type": "code",
   "execution_count": 23,
   "metadata": {
    "collapsed": true
   },
   "outputs": [],
   "source": [
    "index_test.to_csv('test_index.csv')\n",
    "index_train.to_csv('train_index.csv')\n",
    "index_val.to_csv('val_index.csv')"
   ]
  },
  {
   "cell_type": "code",
   "execution_count": 24,
   "metadata": {
    "collapsed": false
   },
   "outputs": [
    {
     "data": {
      "text/plain": [
       "(299749, 299749, 2697738)"
      ]
     },
     "execution_count": 24,
     "metadata": {},
     "output_type": "execute_result"
    }
   ],
   "source": [
    "len(index_test),len(index_val),len(index_train)"
   ]
  },
  {
   "cell_type": "code",
   "execution_count": 121,
   "metadata": {
    "collapsed": false
   },
   "outputs": [],
   "source": [
    "new_train =  pd.DataFrame(\n",
    "    {'click':train.click,\n",
    "    'weekday':train.weekday,\n",
    "    'hour':train.hour,\n",
    "    'userid':userid_number,\n",
    "    'useragent':useragent_number,\n",
    "    'IP':ip_number,\n",
    "    'region':train.region,\n",
    "    'city':train.city,\n",
    "    'adexchange':train.adexchange,\n",
    "    'domain':domain_number,\n",
    "    'url':url_number,\n",
    "    'slotid':slotid_number,\n",
    "    'slotwidth':slotwidth_number,\n",
    "    'slotheight':slotheight_number,\n",
    "    'slotvisibility':slotvisibility_number,\n",
    "    'slotformat':slotformat_number,\n",
    "    'slotprice':train.slotprice,\n",
    "    'creative':creative_number,\n",
    "    'bidprice':train.bidprice,\n",
    "    'payprice':train.payprice,\n",
    "    'keypage':keypage_number,\n",
    "    'advertiser':train.advertiser}\n",
    "    )"
   ]
  },
  {
   "cell_type": "code",
   "execution_count": 94,
   "metadata": {
    "collapsed": false
   },
   "outputs": [],
   "source": [
    "test_list = index_test.values.tolist()"
   ]
  },
  {
   "cell_type": "code",
   "execution_count": 3,
   "metadata": {
    "collapsed": true
   },
   "outputs": [],
   "source": [
    "from scipy.sparse import hstack\n",
    "def ctr_estimate(data_train,data_test):\n",
    "    train_label=data_train['click']\n",
    "    test_label=data_test['click']\n",
    "    train_set1= data_train.drop('click', 1)\n",
    "    train_set2 = train_set1.fillna(0)\n",
    "    test_set1=data_test.drop('click',1)\n",
    "    test_set2 = test_set1.fillna(0)\n",
    "    train_set = train_set2.values.tolist()\n",
    "    test_set = test_set2.values.tolist()\n",
    "    \n",
    "    return train_set , test_set,train_label,test_label\n",
    "    #del whole,user_tag_train,user_tag_test\n",
    "    "
   ]
  },
  {
   "cell_type": "markdown",
   "metadata": {},
   "source": [
    "# 把存好的table读进来"
   ]
  },
  {
   "cell_type": "code",
   "execution_count": 4,
   "metadata": {
    "collapsed": true
   },
   "outputs": [],
   "source": [
    "index_train = pd.read_csv('train_index.csv')\n",
    "index_val = pd.read_csv('val_index.csv')\n",
    "index_test = pd.read_csv('test_index.csv')"
   ]
  },
  {
   "cell_type": "code",
   "execution_count": 5,
   "metadata": {
    "collapsed": false
   },
   "outputs": [],
   "source": [
    "train_set,test_set,train_label,test_label =ctr_estimate(index_train,index_val)"
   ]
  },
  {
   "cell_type": "code",
   "execution_count": 6,
   "metadata": {
    "collapsed": false
   },
   "outputs": [],
   "source": [
    "\n",
    "import sklearn.linear_model as lm\n",
    "lg = lm.LogisticRegression(C=1,penalty='l2')\n",
    "model=lg.fit(train_set,train_label)\n",
    "    #model=knn.fit(train_set,train_label)\n",
    "    #model=svm.fit(train_set,train_label)\n",
    "    #model=lg.fit(train_set,train_label)"
   ]
  },
  {
   "cell_type": "code",
   "execution_count": 18,
   "metadata": {
    "collapsed": false
   },
   "outputs": [],
   "source": [
    "predicted= model.predict_proba(test_set)\n",
    "predicted= model.predict(test_set)"
   ]
  },
  {
   "cell_type": "code",
   "execution_count": 8,
   "metadata": {
    "collapsed": false
   },
   "outputs": [],
   "source": [
    "predicted1=[el[1] for el in predicted]"
   ]
  },
  {
   "cell_type": "code",
   "execution_count": 182,
   "metadata": {
    "collapsed": true
   },
   "outputs": [],
   "source": [
    "# 逻辑回归的 CTR\n",
    "logistic_reg \n",
    "predicted1_svm\n",
    "tree"
   ]
  },
  {
   "cell_type": "code",
   "execution_count": 202,
   "metadata": {
    "collapsed": false
   },
   "outputs": [
    {
     "data": {
      "text/plain": [
       "299749"
      ]
     },
     "execution_count": 202,
     "metadata": {},
     "output_type": "execute_result"
    }
   ],
   "source": [
    "len(logistic_reg)"
   ]
  },
  {
   "cell_type": "code",
   "execution_count": 261,
   "metadata": {
    "collapsed": true
   },
   "outputs": [],
   "source": [
    "import numpy as np\n",
    "average_ctr = sum(val.click)/len(val)\n",
    "def lin (pctr,base):\n",
    "    bid=base*pctr/average_ctr\n",
    "    return bid"
   ]
  },
  {
   "cell_type": "code",
   "execution_count": 275,
   "metadata": {
    "collapsed": false
   },
   "outputs": [],
   "source": [
    "a=[]\n",
    "\n",
    "for i in range(1,400):\n",
    "    bids=[]\n",
    "    for q in logistic_reg:\n",
    "        bids.append(lin(q,i))\n",
    "    a.append(bids)"
   ]
  },
  {
   "cell_type": "code",
   "execution_count": 263,
   "metadata": {
    "collapsed": false
   },
   "outputs": [
    {
     "data": {
      "text/plain": [
       "120"
      ]
     },
     "execution_count": 263,
     "metadata": {},
     "output_type": "execute_result"
    }
   ],
   "source": [
    "len(a)"
   ]
  },
  {
   "cell_type": "code",
   "execution_count": 276,
   "metadata": {
    "collapsed": false
   },
   "outputs": [],
   "source": [
    "b=[]\n",
    "\n",
    "for i in range(1,400):\n",
    "    bids=[]\n",
    "    for q in predicted1_svm:\n",
    "        bids.append(lin(q,i))\n",
    "    b.append(bids)"
   ]
  },
  {
   "cell_type": "code",
   "execution_count": 277,
   "metadata": {
    "collapsed": false
   },
   "outputs": [],
   "source": [
    "c=[]\n",
    "\n",
    "for i in range(1,400):\n",
    "    bids=[]\n",
    "    for q in tree:\n",
    "        bids.append(lin(q,i))\n",
    "    c.append(bids)"
   ]
  },
  {
   "cell_type": "code",
   "execution_count": 266,
   "metadata": {
    "collapsed": true
   },
   "outputs": [],
   "source": [
    "def validation(bidding):\n",
    "    new= val.assign(bidding = bidding, diff= bidding -val['payprice'])\n",
    "    new= new[new['diff'] >= 0]\n",
    "    clicks =sum(new['click'])\n",
    "    ctr= clicks/len(new)\n",
    "    spend = sum(new['payprice'])/1000\n",
    "    cpc = spend/clicks\n",
    "    x=0\n",
    "    return [ctr,spend,cpc,x,clicks]\n",
    "    "
   ]
  },
  {
   "cell_type": "code",
   "execution_count": 278,
   "metadata": {
    "collapsed": true
   },
   "outputs": [],
   "source": [
    "result_lg =[] \n",
    "for ai in a:\n",
    "    result_lg.append(validation(ai))\n",
    "\n",
    "result_svm =[] \n",
    "for bi in b:\n",
    "    result_svm.append(validation(bi))\n",
    "    \n",
    "result_tree =[] \n",
    "for ci in c:\n",
    "    result_tree.append(validation(ci))"
   ]
  },
  {
   "cell_type": "code",
   "execution_count": 279,
   "metadata": {
    "collapsed": false
   },
   "outputs": [],
   "source": [
    "def split(l):\n",
    "    lg_ctr=[]\n",
    "    lg_spend=[]\n",
    "    lg_cpc =[]\n",
    "    lg_clicks =[]\n",
    "    for ll in l:\n",
    "        lg_ctr.append(ll[0])\n",
    "        lg_spend.append(ll[1])\n",
    "        lg_cpc.append(ll[2])\n",
    "        lg_clicks.append(ll[4])\n",
    "    return lg_ctr,lg_spend,lg_cpc,lg_clicks\n"
   ]
  },
  {
   "cell_type": "code",
   "execution_count": 280,
   "metadata": {
    "collapsed": true
   },
   "outputs": [],
   "source": [
    "lg_ctr,lg_spend,lg_cpc,lg_clicks =split(result_lg)"
   ]
  },
  {
   "cell_type": "code",
   "execution_count": 281,
   "metadata": {
    "collapsed": true
   },
   "outputs": [],
   "source": [
    "svm_ctr,svm_spend,svm_cpc,svm_clicks =split(result_svm)"
   ]
  },
  {
   "cell_type": "code",
   "execution_count": 282,
   "metadata": {
    "collapsed": true
   },
   "outputs": [],
   "source": [
    "tree_ctr,tree_spend,tree_cpc,tree_clicks =split(result_tree)"
   ]
  },
  {
   "cell_type": "code",
   "execution_count": 302,
   "metadata": {
    "collapsed": false
   },
   "outputs": [
    {
     "data": {
      "text/plain": [
       "<matplotlib.text.Text at 0x669be5ba8>"
      ]
     },
     "execution_count": 302,
     "metadata": {},
     "output_type": "execute_result"
    },
    {
     "data": {
      "image/png": "[encoded data removed]",
      "text/plain": [
       "<matplotlib.figure.Figure at 0x669da8048>"
      ]
     },
     "metadata": {},
     "output_type": "display_data"
    }
   ],
   "source": [
    "x= range(1,400,1)\n",
    "\n",
    "plt.plot(x,lg_spend)\n",
    "plt.plot(x,tree_spend)\n",
    "plt.plot(x,svm_spend)\n",
    "plt.legend(['LG','Tree','SVM'],loc=2)\n",
    "plt.title('Cost of three Algrothms')\n",
    "plt.xlabel('Base Bid')\n",
    "plt.ylabel('Cost in Yuan')"
   ]
  },
  {
   "cell_type": "code",
   "execution_count": 301,
   "metadata": {
    "collapsed": false
   },
   "outputs": [
    {
     "data": {
      "text/plain": [
       "<matplotlib.text.Text at 0x6699e95f8>"
      ]
     },
     "execution_count": 301,
     "metadata": {},
     "output_type": "execute_result"
    },
    {
     "data": {
      "image/png": "[encoded data removed]",
      "text/plain": [
       "<matplotlib.figure.Figure at 0x4536ab048>"
      ]
     },
     "metadata": {},
     "output_type": "display_data"
    }
   ],
   "source": [
    "x= range(1,400,1)\n",
    "\n",
    "plt.plot(x,lg_clicks)\n",
    "plt.plot(x,tree_clicks)\n",
    "plt.plot(x,svm_clicks)\n",
    "plt.legend(['LG','Tree','SVM'],loc=2)\n",
    "plt.title('Clicks of three Algrothms')\n",
    "plt.xlabel('Base Bid')\n",
    "plt.ylabel('#Clicks')"
   ]
  },
  {
   "cell_type": "code",
   "execution_count": 300,
   "metadata": {
    "collapsed": false
   },
   "outputs": [
    {
     "data": {
      "text/plain": [
       "<matplotlib.text.Text at 0x669546780>"
      ]
     },
     "execution_count": 300,
     "metadata": {},
     "output_type": "execute_result"
    },
    {
     "data": {
      "image/png": "[encoded data removed]",
      "text/plain": [
       "<matplotlib.figure.Figure at 0x669540630>"
      ]
     },
     "metadata": {},
     "output_type": "display_data"
    }
   ],
   "source": [
    "x= range(50,400,1)\n",
    "\n",
    "plt.plot(x,lg_ctr[49:])\n",
    "plt.plot(x,tree_ctr[49:])\n",
    "plt.plot(x,svm_ctr[49:])\n",
    "plt.legend(['LG','Tree','SVM'],loc=0)\n",
    "plt.title('CTR of three Algrothms')\n",
    "plt.xlabel('Base Bid')\n",
    "plt.ylabel('CTR')"
   ]
  },
  {
   "cell_type": "code",
   "execution_count": 303,
   "metadata": {
    "collapsed": false
   },
   "outputs": [
    {
     "data": {
      "text/plain": [
       "<matplotlib.text.Text at 0x669dcaa20>"
      ]
     },
     "execution_count": 303,
     "metadata": {},
     "output_type": "execute_result"
    },
    {
     "data": {
      "image/png": "[encoded data removed]",
      "text/plain": [
       "<matplotlib.figure.Figure at 0x669ddb8d0>"
      ]
     },
     "metadata": {},
     "output_type": "display_data"
    }
   ],
   "source": [
    "x= range(1,400,1)\n",
    "\n",
    "plt.plot(x,lg_cpc)\n",
    "plt.plot(x,tree_cpc)\n",
    "plt.plot(x,svm_cpc)\n",
    "plt.legend(['LG','Tree','SVM'],loc=0)\n",
    "plt.title('CPC of three Algrothms')\n",
    "plt.xlabel('Base Bid')\n",
    "plt.ylabel('CPC')"
   ]
  },
  {
   "cell_type": "code",
   "execution_count": 244,
   "metadata": {
    "collapsed": false
   },
   "outputs": [
    {
     "data": {
      "text/plain": [
       "240"
      ]
     },
     "execution_count": 244,
     "metadata": {},
     "output_type": "execute_result"
    }
   ],
   "source": [
    "len(lg_clicks)"
   ]
  },
  {
   "cell_type": "code",
   "execution_count": 185,
   "metadata": {
    "collapsed": true
   },
   "outputs": [],
   "source": [
    "tree_ctr = pd.read_csv('tree_ctr.csv')"
   ]
  },
  {
   "cell_type": "code",
   "execution_count": 186,
   "metadata": {
    "collapsed": false
   },
   "outputs": [
    {
     "data": {
      "text/html": [
       "<div>\n",
       "<table border=\"1\" class=\"dataframe\">\n",
       "  <thead>\n",
       "    <tr style=\"text-align: right;\">\n",
       "      <th></th>\n",
       "      <th>Unnamed: 0</th>\n",
       "      <th>ctr</th>\n",
       "    </tr>\n",
       "  </thead>\n",
       "  <tbody>\n",
       "    <tr>\n",
       "      <th>0</th>\n",
       "      <td>0</td>\n",
       "      <td>0.000625</td>\n",
       "    </tr>\n",
       "    <tr>\n",
       "      <th>1</th>\n",
       "      <td>1</td>\n",
       "      <td>0.000625</td>\n",
       "    </tr>\n",
       "    <tr>\n",
       "      <th>2</th>\n",
       "      <td>2</td>\n",
       "      <td>0.000625</td>\n",
       "    </tr>\n",
       "    <tr>\n",
       "      <th>3</th>\n",
       "      <td>3</td>\n",
       "      <td>0.000625</td>\n",
       "    </tr>\n",
       "    <tr>\n",
       "      <th>4</th>\n",
       "      <td>4</td>\n",
       "      <td>0.057368</td>\n",
       "    </tr>\n",
       "    <tr>\n",
       "      <th>5</th>\n",
       "      <td>5</td>\n",
       "      <td>0.001186</td>\n",
       "    </tr>\n",
       "    <tr>\n",
       "      <th>6</th>\n",
       "      <td>6</td>\n",
       "      <td>0.000625</td>\n",
       "    </tr>\n",
       "    <tr>\n",
       "      <th>7</th>\n",
       "      <td>7</td>\n",
       "      <td>0.000625</td>\n",
       "    </tr>\n",
       "    <tr>\n",
       "      <th>8</th>\n",
       "      <td>8</td>\n",
       "      <td>0.000625</td>\n",
       "    </tr>\n",
       "    <tr>\n",
       "      <th>9</th>\n",
       "      <td>9</td>\n",
       "      <td>0.001186</td>\n",
       "    </tr>\n",
       "    <tr>\n",
       "      <th>10</th>\n",
       "      <td>10</td>\n",
       "      <td>0.000625</td>\n",
       "    </tr>\n",
       "    <tr>\n",
       "      <th>11</th>\n",
       "      <td>11</td>\n",
       "      <td>0.001186</td>\n",
       "    </tr>\n",
       "    <tr>\n",
       "      <th>12</th>\n",
       "      <td>12</td>\n",
       "      <td>0.000625</td>\n",
       "    </tr>\n",
       "    <tr>\n",
       "      <th>13</th>\n",
       "      <td>13</td>\n",
       "      <td>0.000625</td>\n",
       "    </tr>\n",
       "    <tr>\n",
       "      <th>14</th>\n",
       "      <td>14</td>\n",
       "      <td>0.000625</td>\n",
       "    </tr>\n",
       "    <tr>\n",
       "      <th>15</th>\n",
       "      <td>15</td>\n",
       "      <td>0.000625</td>\n",
       "    </tr>\n",
       "    <tr>\n",
       "      <th>16</th>\n",
       "      <td>16</td>\n",
       "      <td>0.000625</td>\n",
       "    </tr>\n",
       "    <tr>\n",
       "      <th>17</th>\n",
       "      <td>17</td>\n",
       "      <td>0.001186</td>\n",
       "    </tr>\n",
       "    <tr>\n",
       "      <th>18</th>\n",
       "      <td>18</td>\n",
       "      <td>0.000625</td>\n",
       "    </tr>\n",
       "    <tr>\n",
       "      <th>19</th>\n",
       "      <td>19</td>\n",
       "      <td>0.000625</td>\n",
       "    </tr>\n",
       "    <tr>\n",
       "      <th>20</th>\n",
       "      <td>20</td>\n",
       "      <td>0.000625</td>\n",
       "    </tr>\n",
       "    <tr>\n",
       "      <th>21</th>\n",
       "      <td>21</td>\n",
       "      <td>0.000625</td>\n",
       "    </tr>\n",
       "    <tr>\n",
       "      <th>22</th>\n",
       "      <td>22</td>\n",
       "      <td>0.000625</td>\n",
       "    </tr>\n",
       "    <tr>\n",
       "      <th>23</th>\n",
       "      <td>23</td>\n",
       "      <td>0.000625</td>\n",
       "    </tr>\n",
       "    <tr>\n",
       "      <th>24</th>\n",
       "      <td>24</td>\n",
       "      <td>0.000625</td>\n",
       "    </tr>\n",
       "    <tr>\n",
       "      <th>25</th>\n",
       "      <td>25</td>\n",
       "      <td>0.000625</td>\n",
       "    </tr>\n",
       "    <tr>\n",
       "      <th>26</th>\n",
       "      <td>26</td>\n",
       "      <td>0.057368</td>\n",
       "    </tr>\n",
       "    <tr>\n",
       "      <th>27</th>\n",
       "      <td>27</td>\n",
       "      <td>0.000625</td>\n",
       "    </tr>\n",
       "    <tr>\n",
       "      <th>28</th>\n",
       "      <td>28</td>\n",
       "      <td>0.000625</td>\n",
       "    </tr>\n",
       "    <tr>\n",
       "      <th>29</th>\n",
       "      <td>29</td>\n",
       "      <td>0.000625</td>\n",
       "    </tr>\n",
       "    <tr>\n",
       "      <th>...</th>\n",
       "      <td>...</td>\n",
       "      <td>...</td>\n",
       "    </tr>\n",
       "    <tr>\n",
       "      <th>299719</th>\n",
       "      <td>299719</td>\n",
       "      <td>0.001186</td>\n",
       "    </tr>\n",
       "    <tr>\n",
       "      <th>299720</th>\n",
       "      <td>299720</td>\n",
       "      <td>0.000625</td>\n",
       "    </tr>\n",
       "    <tr>\n",
       "      <th>299721</th>\n",
       "      <td>299721</td>\n",
       "      <td>0.000625</td>\n",
       "    </tr>\n",
       "    <tr>\n",
       "      <th>299722</th>\n",
       "      <td>299722</td>\n",
       "      <td>0.000625</td>\n",
       "    </tr>\n",
       "    <tr>\n",
       "      <th>299723</th>\n",
       "      <td>299723</td>\n",
       "      <td>0.000625</td>\n",
       "    </tr>\n",
       "    <tr>\n",
       "      <th>299724</th>\n",
       "      <td>299724</td>\n",
       "      <td>0.000625</td>\n",
       "    </tr>\n",
       "    <tr>\n",
       "      <th>299725</th>\n",
       "      <td>299725</td>\n",
       "      <td>0.001186</td>\n",
       "    </tr>\n",
       "    <tr>\n",
       "      <th>299726</th>\n",
       "      <td>299726</td>\n",
       "      <td>0.000625</td>\n",
       "    </tr>\n",
       "    <tr>\n",
       "      <th>299727</th>\n",
       "      <td>299727</td>\n",
       "      <td>0.000625</td>\n",
       "    </tr>\n",
       "    <tr>\n",
       "      <th>299728</th>\n",
       "      <td>299728</td>\n",
       "      <td>0.000625</td>\n",
       "    </tr>\n",
       "    <tr>\n",
       "      <th>299729</th>\n",
       "      <td>299729</td>\n",
       "      <td>0.000625</td>\n",
       "    </tr>\n",
       "    <tr>\n",
       "      <th>299730</th>\n",
       "      <td>299730</td>\n",
       "      <td>0.000625</td>\n",
       "    </tr>\n",
       "    <tr>\n",
       "      <th>299731</th>\n",
       "      <td>299731</td>\n",
       "      <td>0.000625</td>\n",
       "    </tr>\n",
       "    <tr>\n",
       "      <th>299732</th>\n",
       "      <td>299732</td>\n",
       "      <td>0.000625</td>\n",
       "    </tr>\n",
       "    <tr>\n",
       "      <th>299733</th>\n",
       "      <td>299733</td>\n",
       "      <td>0.001186</td>\n",
       "    </tr>\n",
       "    <tr>\n",
       "      <th>299734</th>\n",
       "      <td>299734</td>\n",
       "      <td>0.000625</td>\n",
       "    </tr>\n",
       "    <tr>\n",
       "      <th>299735</th>\n",
       "      <td>299735</td>\n",
       "      <td>0.001186</td>\n",
       "    </tr>\n",
       "    <tr>\n",
       "      <th>299736</th>\n",
       "      <td>299736</td>\n",
       "      <td>0.000625</td>\n",
       "    </tr>\n",
       "    <tr>\n",
       "      <th>299737</th>\n",
       "      <td>299737</td>\n",
       "      <td>0.000625</td>\n",
       "    </tr>\n",
       "    <tr>\n",
       "      <th>299738</th>\n",
       "      <td>299738</td>\n",
       "      <td>0.000625</td>\n",
       "    </tr>\n",
       "    <tr>\n",
       "      <th>299739</th>\n",
       "      <td>299739</td>\n",
       "      <td>0.000625</td>\n",
       "    </tr>\n",
       "    <tr>\n",
       "      <th>299740</th>\n",
       "      <td>299740</td>\n",
       "      <td>0.000625</td>\n",
       "    </tr>\n",
       "    <tr>\n",
       "      <th>299741</th>\n",
       "      <td>299741</td>\n",
       "      <td>0.000625</td>\n",
       "    </tr>\n",
       "    <tr>\n",
       "      <th>299742</th>\n",
       "      <td>299742</td>\n",
       "      <td>0.000625</td>\n",
       "    </tr>\n",
       "    <tr>\n",
       "      <th>299743</th>\n",
       "      <td>299743</td>\n",
       "      <td>0.000625</td>\n",
       "    </tr>\n",
       "    <tr>\n",
       "      <th>299744</th>\n",
       "      <td>299744</td>\n",
       "      <td>0.001186</td>\n",
       "    </tr>\n",
       "    <tr>\n",
       "      <th>299745</th>\n",
       "      <td>299745</td>\n",
       "      <td>0.000625</td>\n",
       "    </tr>\n",
       "    <tr>\n",
       "      <th>299746</th>\n",
       "      <td>299746</td>\n",
       "      <td>0.000625</td>\n",
       "    </tr>\n",
       "    <tr>\n",
       "      <th>299747</th>\n",
       "      <td>299747</td>\n",
       "      <td>0.000625</td>\n",
       "    </tr>\n",
       "    <tr>\n",
       "      <th>299748</th>\n",
       "      <td>299748</td>\n",
       "      <td>0.000625</td>\n",
       "    </tr>\n",
       "  </tbody>\n",
       "</table>\n",
       "<p>299749 rows × 2 columns</p>\n",
       "</div>"
      ],
      "text/plain": [
       "        Unnamed: 0       ctr\n",
       "0                0  0.000625\n",
       "1                1  0.000625\n",
       "2                2  0.000625\n",
       "3                3  0.000625\n",
       "4                4  0.057368\n",
       "5                5  0.001186\n",
       "6                6  0.000625\n",
       "7                7  0.000625\n",
       "8                8  0.000625\n",
       "9                9  0.001186\n",
       "10              10  0.000625\n",
       "11              11  0.001186\n",
       "12              12  0.000625\n",
       "13              13  0.000625\n",
       "14              14  0.000625\n",
       "15              15  0.000625\n",
       "16              16  0.000625\n",
       "17              17  0.001186\n",
       "18              18  0.000625\n",
       "19              19  0.000625\n",
       "20              20  0.000625\n",
       "21              21  0.000625\n",
       "22              22  0.000625\n",
       "23              23  0.000625\n",
       "24              24  0.000625\n",
       "25              25  0.000625\n",
       "26              26  0.057368\n",
       "27              27  0.000625\n",
       "28              28  0.000625\n",
       "29              29  0.000625\n",
       "...            ...       ...\n",
       "299719      299719  0.001186\n",
       "299720      299720  0.000625\n",
       "299721      299721  0.000625\n",
       "299722      299722  0.000625\n",
       "299723      299723  0.000625\n",
       "299724      299724  0.000625\n",
       "299725      299725  0.001186\n",
       "299726      299726  0.000625\n",
       "299727      299727  0.000625\n",
       "299728      299728  0.000625\n",
       "299729      299729  0.000625\n",
       "299730      299730  0.000625\n",
       "299731      299731  0.000625\n",
       "299732      299732  0.000625\n",
       "299733      299733  0.001186\n",
       "299734      299734  0.000625\n",
       "299735      299735  0.001186\n",
       "299736      299736  0.000625\n",
       "299737      299737  0.000625\n",
       "299738      299738  0.000625\n",
       "299739      299739  0.000625\n",
       "299740      299740  0.000625\n",
       "299741      299741  0.000625\n",
       "299742      299742  0.000625\n",
       "299743      299743  0.000625\n",
       "299744      299744  0.001186\n",
       "299745      299745  0.000625\n",
       "299746      299746  0.000625\n",
       "299747      299747  0.000625\n",
       "299748      299748  0.000625\n",
       "\n",
       "[299749 rows x 2 columns]"
      ]
     },
     "execution_count": 186,
     "metadata": {},
     "output_type": "execute_result"
    }
   ],
   "source": [
    "tree_ctr"
   ]
  },
  {
   "cell_type": "code",
   "execution_count": 39,
   "metadata": {
    "collapsed": false
   },
   "outputs": [],
   "source": [
    "result_randam_f= []\n",
    "for c in range(30,80):\n",
    "    bid_price= non_lin(c,predicted1)\n",
    "    re = validation_budget(bid_price,12500)\n",
    "    result_randam_f.append(re)\n",
    "    \n",
    "clicks =[]\n",
    "spend = []\n",
    "\n",
    "for r in result_randam_f:\n",
    "    clicks.append(r[4])\n",
    "    spend.append(r[1])\n",
    "    \n"
   ]
  },
  {
   "cell_type": "code",
   "execution_count": 60,
   "metadata": {
    "collapsed": false
   },
   "outputs": [
    {
     "data": {
      "text/plain": [
       "294738.4464110128"
      ]
     },
     "execution_count": 60,
     "metadata": {},
     "output_type": "execute_result"
    }
   ],
   "source": [
    "bid_price"
   ]
  },
  {
   "cell_type": "code",
   "execution_count": 76,
   "metadata": {
    "collapsed": false
   },
   "outputs": [
    {
     "data": {
      "text/plain": [
       "[0.00096819840619646977,\n",
       " 1562.0060000000001,\n",
       " 60.077153846153848,\n",
       " 0.058166604602666275,\n",
       " 26]"
      ]
     },
     "execution_count": 76,
     "metadata": {},
     "output_type": "execute_result"
    }
   ],
   "source": [
    "bid_price=[]\n",
    "for p in predicted1:\n",
    "    bid_price.append(lin(p,1000))\n",
    "re = validation_budget(bid_price,6250)\n",
    "re"
   ]
  },
  {
   "cell_type": "code",
   "execution_count": 40,
   "metadata": {
    "collapsed": false
   },
   "outputs": [
    {
     "data": {
      "image/png": "[encoded data removed]",
      "text/plain": [
       "<matplotlib.figure.Figure at 0x1307291d0>"
      ]
     },
     "metadata": {},
     "output_type": "display_data"
    }
   ],
   "source": [
    "fig, ax1 = plt.subplots()\n",
    "x = range(30,80,1)\n",
    "\n",
    "ax1.plot(x, clicks, 'b-')\n",
    "ax1.set_xlabel('bidding_price')\n",
    "# Make the y-axis label, ticks and tick labels match the line color.\n",
    "ax1.set_ylabel('Clicks', color='b')\n",
    "ax1.tick_params('y', colors='b')\n",
    "\n",
    "ax2 = ax1.twinx()\n",
    "\n",
    "ax2.plot(x, spend, 'r.')\n",
    "ax2.set_ylabel('Spend', color='r')\n",
    "ax2.tick_params('y', colors='r')\n",
    "\n",
    "fig.tight_layout()\n",
    "plt.show()"
   ]
  },
  {
   "cell_type": "code",
   "execution_count": 41,
   "metadata": {
    "collapsed": false
   },
   "outputs": [
    {
     "data": {
      "text/plain": [
       "143"
      ]
     },
     "execution_count": 41,
     "metadata": {},
     "output_type": "execute_result"
    }
   ],
   "source": [
    "max(clicks)"
   ]
  },
  {
   "cell_type": "code",
   "execution_count": 65,
   "metadata": {
    "collapsed": true
   },
   "outputs": [],
   "source": [
    "import numpy as np\n",
    "def lin (pctr,base):\n",
    "    bid=base*pctr/0.0067856773500495418\n",
    "    return bid"
   ]
  },
  {
   "cell_type": "code",
   "execution_count": 51,
   "metadata": {
    "collapsed": false
   },
   "outputs": [
    {
     "data": {
      "text/plain": [
       "0.0067856773500495418"
      ]
     },
     "execution_count": 51,
     "metadata": {},
     "output_type": "execute_result"
    }
   ],
   "source": [
    "sum(train_label)/len(test_label)"
   ]
  },
  {
   "cell_type": "code",
   "execution_count": 45,
   "metadata": {
    "collapsed": false
   },
   "outputs": [
    {
     "data": {
      "text/plain": [
       "(array([ 52447.,  40097.,  65638.,  78201.,  43341.,  11419.,   4740.,\n",
       "          2298.,   1378.,    190.]),\n",
       " array([ 0.0001043 ,  0.00031507,  0.00052584,  0.00073662,  0.00094739,\n",
       "         0.00115816,  0.00136893,  0.0015797 ,  0.00179048,  0.00200125,\n",
       "         0.00221202]),\n",
       " <a list of 10 Patch objects>)"
      ]
     },
     "execution_count": 45,
     "metadata": {},
     "output_type": "execute_result"
    },
    {
     "data": {
      "image/png": "[encoded data removed]",
      "text/plain": [
       "<matplotlib.figure.Figure at 0x139e5ae10>"
      ]
     },
     "metadata": {},
     "output_type": "display_data"
    }
   ],
   "source": [
    "plt.hist(predicted1)"
   ]
  },
  {
   "cell_type": "code",
   "execution_count": 1,
   "metadata": {
    "collapsed": false
   },
   "outputs": [],
   "source": [
    "from sklearn.calibration import CalibratedClassifierCV\n",
    "from sklearn import ensemble\n",
    "import scipy as sp\n",
    "import sklearn as sk\n",
    "\n",
    "svm=CalibratedClassifierCV(sk.svm.SVC(kernel='rbf',C=12))\n",
    "\n",
    "#knn=CalibratedClassifierCV(sk.neighbors.KNeighborsClassifier(n_neighbors=4))\n",
    "\n",
    "g_boosting=ensemble.GradientBoostingRegressor()"
   ]
  },
  {
   "cell_type": "code",
   "execution_count": 48,
   "metadata": {
    "collapsed": true
   },
   "outputs": [],
   "source": [
    "g_boosting=ensemble.GradientBoostingRegressor(max_depth=5,learning_rate=0.05,n_estimators=50)\n"
   ]
  },
  {
   "cell_type": "code",
   "execution_count": 53,
   "metadata": {
    "collapsed": false
   },
   "outputs": [
    {
     "ename": "AttributeError",
     "evalue": "'list' object has no attribute 'todense'",
     "output_type": "error",
     "traceback": [
      "\u001b[0;31m---------------------------------------------------------------------------\u001b[0m",
      "\u001b[0;31mAttributeError\u001b[0m                            Traceback (most recent call last)",
      "\u001b[0;32m<ipython-input-53-1361ce827f8b>\u001b[0m in \u001b[0;36m<module>\u001b[0;34m()\u001b[0m\n\u001b[1;32m      1\u001b[0m \u001b[0;32mimport\u001b[0m \u001b[0mscipy\u001b[0m\u001b[0;34m\u001b[0m\u001b[0m\n\u001b[0;32m----> 2\u001b[0;31m \u001b[0mtrain_set\u001b[0m\u001b[0;34m=\u001b[0m\u001b[0mtrain_set\u001b[0m\u001b[0;34m.\u001b[0m\u001b[0mtodense\u001b[0m\u001b[0;34m(\u001b[0m\u001b[0;34m)\u001b[0m\u001b[0;34m\u001b[0m\u001b[0m\n\u001b[0m\u001b[1;32m      3\u001b[0m \u001b[0mtest_set\u001b[0m\u001b[0;34m=\u001b[0m\u001b[0mtest_set\u001b[0m\u001b[0;34m.\u001b[0m\u001b[0mtodense\u001b[0m\u001b[0;34m(\u001b[0m\u001b[0;34m)\u001b[0m\u001b[0;34m\u001b[0m\u001b[0m\n\u001b[1;32m      4\u001b[0m \u001b[0;31m#boosting_model=g_boosting.fit(train_set,train_label)\u001b[0m\u001b[0;34m\u001b[0m\u001b[0;34m\u001b[0m\u001b[0m\n",
      "\u001b[0;31mAttributeError\u001b[0m: 'list' object has no attribute 'todense'"
     ]
    }
   ],
   "source": [
    "import scipy \n",
    "#train_set=train_set.todense()\n",
    "#test_set=test_set.todense()\n",
    "boosting_model=g_boosting.fit(train_set,train_label)\n"
   ]
  },
  {
   "cell_type": "code",
   "execution_count": 121,
   "metadata": {
    "collapsed": true
   },
   "outputs": [],
   "source": [
    "import sklearn.ensemble as se"
   ]
  },
  {
   "cell_type": "code",
   "execution_count": 122,
   "metadata": {
    "collapsed": true
   },
   "outputs": [],
   "source": [
    "randam_f = se.RandomForestRegressor().fit(train_set,train_label)\n",
    "predicted_randam_f = randam_f.predict(test_set)"
   ]
  },
  {
   "cell_type": "code",
   "execution_count": 149,
   "metadata": {
    "collapsed": false
   },
   "outputs": [
    {
     "data": {
      "text/plain": [
       "[0.0010366489975604193,\n",
       " 8253.7950000000001,\n",
       " 55.025300000000001,\n",
       " 0.057041922085461341,\n",
       " 150]"
      ]
     },
     "execution_count": 149,
     "metadata": {},
     "output_type": "execute_result"
    }
   ],
   "source": [
    "bid_price= non_lin(50,predicted_randam_f)\n",
    "re = validation_budget(bid_price,12500)\n",
    "re"
   ]
  },
  {
   "cell_type": "code",
   "execution_count": 128,
   "metadata": {
    "collapsed": false
   },
   "outputs": [
    {
     "data": {
      "text/plain": [
       "[0.00077505756604887368,\n",
       " 13156.76,\n",
       " 76.492790697674423,\n",
       " 0.059286316178425461,\n",
       " 172]"
      ]
     },
     "execution_count": 128,
     "metadata": {},
     "output_type": "execute_result"
    }
   ],
   "source": []
  },
  {
   "cell_type": "code",
   "execution_count": 75,
   "metadata": {
    "collapsed": false
   },
   "outputs": [
    {
     "data": {
      "image/png": "[encoded data removed]",
      "text/plain": [
       "<matplotlib.figure.Figure at 0x14f56db00>"
      ]
     },
     "metadata": {},
     "output_type": "display_data"
    }
   ],
   "source": [
    "result_randam_f= []\n",
    "for c in range(1,150,1):\n",
    "    bid_price= non_lin(c,predicted_boosting)\n",
    "    re = validation_budget(bid_price,25000)\n",
    "    result_randam_f.append(re)\n",
    "    \n",
    "clicks =[]\n",
    "spend = []\n",
    "\n",
    "for r in result_randam_f:\n",
    "    clicks.append(r[4])\n",
    "    spend.append(r[1])\n",
    "    \n"
   ]
  },
  {
   "cell_type": "code",
   "execution_count": null,
   "metadata": {
    "collapsed": true
   },
   "outputs": [],
   "source": [
    "fig, ax1 = plt.subplots()\n",
    "x = range(1,350,1)\n",
    "\n",
    "ax1.plot(x, clicks, 'b-')\n",
    "ax1.set_xlabel('bidding_price')\n",
    "# Make the y-axis label, ticks and tick labels match the line color.\n",
    "ax1.set_ylabel('Clicks', color='b')\n",
    "ax1.tick_params('y', colors='b')\n",
    "\n",
    "ax2 = ax1.twinx()\n",
    "\n",
    "ax2.plot(x, spend, 'r.')\n",
    "ax2.set_ylabel('Spend', color='r')\n",
    "ax2.tick_params('y', colors='r')\n",
    "\n",
    "fig.tight_layout()\n",
    "plt.show()"
   ]
  },
  {
   "cell_type": "code",
   "execution_count": 76,
   "metadata": {
    "collapsed": false
   },
   "outputs": [
    {
     "data": {
      "text/plain": [
       "225"
      ]
     },
     "execution_count": 76,
     "metadata": {},
     "output_type": "execute_result"
    }
   ],
   "source": [
    "max(clicks)"
   ]
  },
  {
   "cell_type": "code",
   "execution_count": 56,
   "metadata": {
    "collapsed": false
   },
   "outputs": [],
   "source": [
    "predicted_boosting = boosting_model.predict(test_set)"
   ]
  },
  {
   "cell_type": "code",
   "execution_count": 119,
   "metadata": {
    "collapsed": false
   },
   "outputs": [],
   "source": [
    "result_svm= []\n",
    "for c in range(1,400,1):\n",
    "    bid_price= non_lin(c,predicted1_svm)\n",
    "    re = validation_budget(bid_price,25000)\n",
    "    result_svm.append(re)\n",
    "    \n",
    "clicks =[]\n",
    "spend = []\n",
    "\n",
    "for r in result_svm:\n",
    "    clicks.append(r[4])\n",
    "    spend.append(r[1])"
   ]
  },
  {
   "cell_type": "code",
   "execution_count": 120,
   "metadata": {
    "collapsed": false
   },
   "outputs": [
    {
     "data": {
      "image/png": "[encoded data removed]",
      "text/plain": [
       "<matplotlib.figure.Figure at 0x15c2de240>"
      ]
     },
     "metadata": {},
     "output_type": "display_data"
    }
   ],
   "source": [
    "fig, ax1 = plt.subplots()\n",
    "x = range(1,400,1)\n",
    "\n",
    "ax1.plot(x, clicks, 'b-')\n",
    "ax1.set_xlabel('Parameter C')\n",
    "# Make the y-axis label, ticks and tick labels match the line color.\n",
    "ax1.set_ylabel('Clicks', color='b')\n",
    "ax1.tick_params('y', colors='b')\n",
    "\n",
    "\n",
    "ax2 = ax1.twinx()\n",
    "\n",
    "ax2.plot(x, spend, 'r.')\n",
    "ax2.set_ylabel('Cost Yuan', color='r')\n",
    "ax2.tick_params('y', colors='r')\n",
    "\n",
    "fig.tight_layout()\n",
    "plt.title('Tuning Parameter C')\n",
    "plt.show()"
   ]
  },
  {
   "cell_type": "code",
   "execution_count": 105,
   "metadata": {
    "collapsed": false
   },
   "outputs": [
    {
     "data": {
      "text/plain": [
       "29"
      ]
     },
     "execution_count": 105,
     "metadata": {},
     "output_type": "execute_result"
    }
   ],
   "source": [
    "max(clicks)"
   ]
  },
  {
   "cell_type": "code",
   "execution_count": 78,
   "metadata": {
    "collapsed": false
   },
   "outputs": [],
   "source": [
    "from sklearn import svm\n",
    "svc = CalibratedClassifierCV(svm.LinearSVC(penalty='l2', C=0.3,class_weight='balanced')).fit(train_set, train_label)\n",
    "\n",
    "predicted_svm = svc.predict_proba(test_set)\n",
    "predicted1_svm=[el[1] for el in predicted_svm]"
   ]
  },
  {
   "cell_type": "code",
   "execution_count": 184,
   "metadata": {
    "collapsed": false
   },
   "outputs": [
    {
     "data": {
      "text/plain": [
       "[0.00069322359454270703,\n",
       " 0.00067262280488898174,\n",
       " 0.00067944568370092529,\n",
       " 0.00067837488080818836,\n",
       " 0.0006733096039120602,\n",
       " 0.00067754903938641844,\n",
       " 0.00067320884173721976,\n",
       " 0.00067187748486697424,\n",
       " 0.00067703733661611651,\n",
       " 0.00067993746020633,\n",
       " 0.00066686043423418737,\n",
       " 0.00067663367257711699,\n",
       " 0.00068152025778709139,\n",
       " 0.00067091424057215355,\n",
       " 0.00067434092740136246,\n",
       " 0.00067167054423448135,\n",
       " 0.00066740299486012841,\n",
       " 0.0006809881695997187,\n",
       " 0.00068119682752269004,\n",
       " 0.00069241449062162289,\n",
       " 0.00067994987943284296,\n",
       " 0.00067188865503155411,\n",
       " 0.00067735976491680675,\n",
       " 0.0006831796808586917,\n",
       " 0.00069369261522138901,\n",
       " 0.00066841681484961629,\n",
       " 0.00067888747369487681,\n",
       " 0.00068161439427847194,\n",
       " 0.00067899835623235546,\n",
       " 0.00068529821223643642,\n",
       " 0.00067423430296862979,\n",
       " 0.00069186331313083281,\n",
       " 0.00067779945831582201,\n",
       " 0.00069678655086650044,\n",
       " 0.00067817714608730498,\n",
       " 0.00067912041829821265,\n",
       " 0.00066615330122274071,\n",
       " 0.00068947805877824441,\n",
       " 0.00066391779505088784,\n",
       " 0.00067568570711925657,\n",
       " 0.00067891391118275453,\n",
       " 0.0006769103379956411,\n",
       " 0.00067625313047209388,\n",
       " 0.00068838400266139812,\n",
       " 0.00067313210144455014,\n",
       " 0.00067261337203933756,\n",
       " 0.00068070385022603612,\n",
       " 0.00067888854924137839,\n",
       " 0.00067305030790128619,\n",
       " 0.00067952836894973187,\n",
       " 0.00067856116977989907,\n",
       " 0.00067391227941649898,\n",
       " 0.00067755648801769207,\n",
       " 0.00067350134520124049,\n",
       " 0.00069787720827003909,\n",
       " 0.0006888685947034792,\n",
       " 0.00067601972781440838,\n",
       " 0.00067263405354211049,\n",
       " 0.00069377677031009848,\n",
       " 0.00067973976572241262,\n",
       " 0.00068698756143247865,\n",
       " 0.0006748305558974063,\n",
       " 0.00071360105510102391,\n",
       " 0.00067804822389543713,\n",
       " 0.00066778602427150415,\n",
       " 0.00069439136409155675,\n",
       " 0.00067964287302603335,\n",
       " 0.00067360599031025326,\n",
       " 0.00068374629244745725,\n",
       " 0.00069230583153680073,\n",
       " 0.00068754899704071882,\n",
       " 0.00069269949860957265,\n",
       " 0.00067158118600418046,\n",
       " 0.00069933049322166421,\n",
       " 0.00067689609993940253,\n",
       " 0.00066849411708493599,\n",
       " 0.00068552446152226134,\n",
       " 0.00066994113269730449,\n",
       " 0.00067787649803235591,\n",
       " 0.00068476396119352475,\n",
       " 0.00067244218059667356,\n",
       " 0.00067677443135931816,\n",
       " 0.00066482007091147059,\n",
       " 0.00068375116815111014,\n",
       " 0.00068405266768959869,\n",
       " 0.00067217815114895506,\n",
       " 0.00070358312326016881,\n",
       " 0.00067869142228190772,\n",
       " 0.00068400221621921957,\n",
       " 0.00067654163397684109,\n",
       " 0.00067707559521808615,\n",
       " 0.00067420496850686355,\n",
       " 0.00068878836370097013,\n",
       " 0.00067943178940253789,\n",
       " 0.00066564496323087035,\n",
       " 0.00067663647583853404,\n",
       " 0.0006772644514865039,\n",
       " 0.00068532772434392935,\n",
       " 0.00067547332388506699,\n",
       " 0.00066615159039276183,\n",
       " 0.0006819340096021983,\n",
       " 0.00067596837521660506,\n",
       " 0.00068240918199920318,\n",
       " 0.00067912913741760908,\n",
       " 0.00067422844957447413,\n",
       " 0.0006735257904624685,\n",
       " 0.00067960155561496165,\n",
       " 0.00068175407480802958,\n",
       " 0.00068368835274978024,\n",
       " 0.00068653270989179553,\n",
       " 0.00067164272099333368,\n",
       " 0.00066749423424712368,\n",
       " 0.00068099329983282964,\n",
       " 0.00068490439463952306,\n",
       " 0.00068397459500040881,\n",
       " 0.00067037327333586971,\n",
       " 0.00067841373689330137,\n",
       " 0.0006760358370634399,\n",
       " 0.0007114527261754492,\n",
       " 0.00068977716644154927,\n",
       " 0.00069057908140564544,\n",
       " 0.00067010287424815911,\n",
       " 0.00067704165894226737,\n",
       " 0.00067951535000680674,\n",
       " 0.00068017715531080915,\n",
       " 0.0006845681931648863,\n",
       " 0.00068349298849393727,\n",
       " 0.00066759586407683395,\n",
       " 0.00068287043322894959,\n",
       " 0.00068892064106105373,\n",
       " 0.00067533296764148588,\n",
       " 0.00068934564293484735,\n",
       " 0.00066742553858233371,\n",
       " 0.00067672937989551407,\n",
       " 0.00068822521063359975,\n",
       " 0.00068943141992160032,\n",
       " 0.00069254698295093716,\n",
       " 0.00068117820758974883,\n",
       " 0.00068015430920892646,\n",
       " 0.00066541768802760252,\n",
       " 0.00067821967119352674,\n",
       " 0.00067797542926748336,\n",
       " 0.00067439105341215392,\n",
       " 0.000675763403820547,\n",
       " 0.00068309581589583602,\n",
       " 0.00067697638889301515,\n",
       " 0.00069047376903657741,\n",
       " 0.00067361274508856482,\n",
       " 0.0006800764030670635,\n",
       " 0.00070510829377900836,\n",
       " 0.00066861947724753963,\n",
       " 0.00067487368590347712,\n",
       " 0.00068375191715790574,\n",
       " 0.00067647037421582432,\n",
       " 0.00069562358443100005,\n",
       " 0.00067933270312686125,\n",
       " 0.00068718601716028849,\n",
       " 0.00069115770642645799,\n",
       " 0.00067574143532867414,\n",
       " 0.00068338517696701895,\n",
       " 0.00067603716814632205,\n",
       " 0.00067421864090897864,\n",
       " 0.00066736975338766097,\n",
       " 0.00068992034149711629,\n",
       " 0.00066310744477039284,\n",
       " 0.00067343507623765042,\n",
       " 0.00067678378279122358,\n",
       " 0.00069172238487845265,\n",
       " 0.00068176171224895157,\n",
       " 0.00068172147911559468,\n",
       " 0.00067897089565152776,\n",
       " 0.00068281180903765443,\n",
       " 0.00067019720605641063,\n",
       " 0.00067000151572371616,\n",
       " 0.00067641362494004259,\n",
       " 0.00067272281241027171,\n",
       " 0.00068000591083344308,\n",
       " 0.00067707452926837549,\n",
       " 0.00068786447943579819,\n",
       " 0.00066959771303463998,\n",
       " 0.00068168122644270829,\n",
       " 0.00067593467754204157,\n",
       " 0.00068392336003867847,\n",
       " 0.00067729991389549197,\n",
       " 0.0006950817857155709,\n",
       " 0.00067412730585680728,\n",
       " 0.00069011273891474644,\n",
       " 0.0006883006276337066,\n",
       " 0.00068648540367262226,\n",
       " 0.00068706246328458301,\n",
       " 0.00069783590457789041,\n",
       " 0.00066991809105240859,\n",
       " 0.00067569327162116837,\n",
       " 0.00067948229909995642,\n",
       " 0.00067707786022329092,\n",
       " 0.00070007361178648904,\n",
       " 0.00067891168220587711,\n",
       " 0.00067370813044874249,\n",
       " 0.00068672053595928177,\n",
       " 0.00068066546624875326,\n",
       " 0.00068002942666284922,\n",
       " 0.00068031967306527883,\n",
       " 0.000664760697711251,\n",
       " 0.00068344069165853308,\n",
       " 0.00067987026927200319,\n",
       " 0.00068920759712435317,\n",
       " 0.00068347837412486461,\n",
       " 0.00067626132568073818,\n",
       " 0.00068816126054086011,\n",
       " 0.00067168837441508415,\n",
       " 0.00067953848773182307,\n",
       " 0.00067266701250199873,\n",
       " 0.00068209534720209614,\n",
       " 0.00067545172624175183,\n",
       " 0.00068259997313959841,\n",
       " 0.00068484201453286695,\n",
       " 0.00068601767309605483,\n",
       " 0.00068243106856748833,\n",
       " 0.00067096869382638955,\n",
       " 0.00068155256296528277,\n",
       " 0.00067305442285983197,\n",
       " 0.00068061105929175458,\n",
       " 0.00068918925904146416,\n",
       " 0.00067402282500879861,\n",
       " 0.00068848666715677078,\n",
       " 0.00067243997237501942,\n",
       " 0.00068536699003508806,\n",
       " 0.00068122868601719084,\n",
       " 0.00067290040117362311,\n",
       " 0.00066497670206001208,\n",
       " 0.00068176726737163992,\n",
       " 0.00069160800182254073,\n",
       " 0.00068802873517727738,\n",
       " 0.00068097618292805998,\n",
       " 0.00068469756813491721,\n",
       " 0.00066718438514614374,\n",
       " 0.00067572049236888328,\n",
       " 0.00067939663909140911,\n",
       " 0.00068254300228244873,\n",
       " 0.00068675366797663583,\n",
       " 0.00068270068036180764,\n",
       " 0.00068634950089954217,\n",
       " 0.00067684217578008622,\n",
       " 0.00068187260827451098,\n",
       " 0.00067239319891617213,\n",
       " 0.00068468034122386374,\n",
       " 0.00066645954013100654,\n",
       " 0.00066818378795934668,\n",
       " 0.00068671707371918721,\n",
       " 0.00067313297548787993,\n",
       " 0.00067936763954960615,\n",
       " 0.00067443843961397258,\n",
       " 0.00068849005315375184,\n",
       " 0.0006634587532438485,\n",
       " 0.00067970895159356881,\n",
       " 0.00067902313251993682,\n",
       " 0.00068003926367903565,\n",
       " 0.00067240094774270503,\n",
       " 0.00067906314536485041,\n",
       " 0.00068267713896080773,\n",
       " 0.00067950751430450543,\n",
       " 0.00068763790949063781,\n",
       " 0.00068182146239723258,\n",
       " 0.00068922926589611033,\n",
       " 0.00066866977339816917,\n",
       " 0.00067838330377167357,\n",
       " 0.00068117362719386767,\n",
       " 0.00067951596485444374,\n",
       " 0.00067831804156812862,\n",
       " 0.00068157453890930152,\n",
       " 0.00069553197023504226,\n",
       " 0.00067691951849804778,\n",
       " 0.00068068268240044144,\n",
       " 0.00068450846447965527,\n",
       " 0.00067876390901170172,\n",
       " 0.00068793582923110455,\n",
       " 0.00068437743817403862,\n",
       " 0.00067117059562228144,\n",
       " 0.00068942184019231553,\n",
       " 0.00067811511626955222,\n",
       " 0.00067310483159568934,\n",
       " 0.0006814305190307998,\n",
       " 0.00067146061547936509,\n",
       " 0.00066777043599228734,\n",
       " 0.00068666954476620924,\n",
       " 0.00067917086598126618,\n",
       " 0.00067604340022974429,\n",
       " 0.00068562050090534797,\n",
       " 0.0006752460115323583,\n",
       " 0.00067287795084456639,\n",
       " 0.0006929400607259892,\n",
       " 0.00067423732388130963,\n",
       " 0.0006791160265260831,\n",
       " 0.00068170074262033191,\n",
       " 0.00067109593521268607,\n",
       " 0.00067142220780154677,\n",
       " 0.00068018259597112574,\n",
       " 0.00069178142331878946,\n",
       " 0.00068295121663492755,\n",
       " 0.000670841544667229,\n",
       " 0.00067309958003951319,\n",
       " 0.00067085130454115247,\n",
       " 0.00068090688116426124,\n",
       " 0.00067873892955050408,\n",
       " 0.00067449716254833886,\n",
       " 0.00067351645396043715,\n",
       " 0.00067834664606415554,\n",
       " 0.00067776052315638542,\n",
       " 0.00067363839464409643,\n",
       " 0.00067057052217703642,\n",
       " 0.00068458820648534735,\n",
       " 0.00067808807717404523,\n",
       " 0.00067868793111469292,\n",
       " 0.00069382089292705732,\n",
       " 0.00066586486198702587,\n",
       " 0.00068104735834393553,\n",
       " 0.00068318306247233099,\n",
       " 0.00067844159201238096,\n",
       " 0.00068072734762044567,\n",
       " 0.00068645963313692857,\n",
       " 0.0006796364778138684,\n",
       " 0.00068176436410958879,\n",
       " 0.00067935984540487581,\n",
       " 0.0006806934852325061,\n",
       " 0.00066499096165659308,\n",
       " 0.00068353939071382028,\n",
       " 0.0006707054526969786,\n",
       " 0.00067585992740490191,\n",
       " 0.00068428001838875959,\n",
       " 0.00066989244138528309,\n",
       " 0.00068284307740756423,\n",
       " 0.00068856714150578469,\n",
       " 0.0006716697135392887,\n",
       " 0.00068439721843158163,\n",
       " 0.00068233596931238053,\n",
       " 0.00067931551150827768,\n",
       " 0.00066762920871459106,\n",
       " 0.00068267819795789827,\n",
       " 0.00067284805830798667,\n",
       " 0.00067373259313037394,\n",
       " 0.00067067087995419659,\n",
       " 0.00068823704780232207,\n",
       " 0.00068914235892543528,\n",
       " 0.00067512224435410802,\n",
       " 0.00067824926772197308,\n",
       " 0.00068818437773815379,\n",
       " 0.00067885673223820088,\n",
       " 0.00068078636489187416,\n",
       " 0.00068553250508402873,\n",
       " 0.00067606100438847791,\n",
       " 0.00068959383059130532,\n",
       " 0.00068614678124021521,\n",
       " 0.00067868104555397497,\n",
       " 0.00068130954391669787,\n",
       " 0.00069139036971018603,\n",
       " 0.00068270153938724924,\n",
       " 0.00066684573547856195,\n",
       " 0.00068327959788477713,\n",
       " 0.00067980278519372218,\n",
       " 0.0006764213719284625,\n",
       " 0.00066841309561377295,\n",
       " 0.00066902950568028684,\n",
       " 0.00067330713308255739,\n",
       " 0.00067181724914019839,\n",
       " 0.00066627937317466671,\n",
       " 0.00068076040595465377,\n",
       " 0.00067904483629189756,\n",
       " 0.00068534887265419436,\n",
       " 0.00066554019362611606,\n",
       " 0.00068076350764118519,\n",
       " 0.00067336815328625547,\n",
       " 0.00067972535784508457,\n",
       " 0.0006808146751223317,\n",
       " 0.0006795140757028705,\n",
       " 0.00068967650316383022,\n",
       " 0.00069618892726435073,\n",
       " 0.00067238638882768595,\n",
       " 0.00068257321644144128,\n",
       " 0.00068289257486722212,\n",
       " 0.00067451448308534481,\n",
       " 0.0006719913698695093,\n",
       " 0.00066583878981209006,\n",
       " 0.00067559746050025046,\n",
       " 0.000679657616636297,\n",
       " 0.00069411720560268566,\n",
       " 0.00068260795810460304,\n",
       " 0.00068099053372911876,\n",
       " 0.00067692957697919191,\n",
       " 0.00068639140607039319,\n",
       " 0.0006792909975036509,\n",
       " 0.00068809859998359443,\n",
       " 0.00067643927520377647,\n",
       " 0.00068324645901899001,\n",
       " 0.00067802246089291955,\n",
       " 0.00068695917988448958,\n",
       " 0.00068298969603965674,\n",
       " 0.00067159794364915102,\n",
       " 0.00068605332893190206,\n",
       " 0.00067408199609347472,\n",
       " 0.00069074998142788985,\n",
       " 0.00067379400546039572,\n",
       " 0.00067509485183469154,\n",
       " 0.00067783887904410264,\n",
       " 0.00068451753457546706,\n",
       " 0.00069075029477921434,\n",
       " 0.00068802217447177041,\n",
       " 0.00068709870937035957,\n",
       " 0.00067293259330789522,\n",
       " 0.00068588734239460002,\n",
       " 0.00067329263442898225,\n",
       " 0.00068764438491627361,\n",
       " 0.00067342237308651439,\n",
       " 0.00067789380071696219,\n",
       " 0.00067503098897524043,\n",
       " 0.00067055510464386116,\n",
       " 0.00067535937076542601,\n",
       " 0.00070091515429137902,\n",
       " 0.00068165380625999285,\n",
       " 0.00068587309436209077,\n",
       " 0.00068589846723148852,\n",
       " 0.00068891282358911636,\n",
       " 0.00068581488990021101,\n",
       " 0.00069249536417801034,\n",
       " 0.00068787995109139343,\n",
       " 0.0006828678498243039,\n",
       " 0.00067911648699128053,\n",
       " 0.00068552951486878068,\n",
       " 0.00068373671990898312,\n",
       " 0.00067673989907773662,\n",
       " 0.00068662643219917941,\n",
       " 0.00069158853483239455,\n",
       " 0.0006643001727941652,\n",
       " 0.00067116834540854322,\n",
       " 0.00068420902317737492,\n",
       " 0.00068336372536266857,\n",
       " 0.00067809106194138791,\n",
       " 0.00068022610850455303,\n",
       " 0.00068211452980920155,\n",
       " 0.00067434242864707116,\n",
       " 0.0006852888081710579,\n",
       " 0.0006695644551630342,\n",
       " 0.00068392697890444542,\n",
       " 0.00068074746804249982,\n",
       " 0.00067292216046710809,\n",
       " 0.00069855813957164564,\n",
       " 0.0006823400405005642,\n",
       " 0.0006886285491042324,\n",
       " 0.00067315191127327676,\n",
       " 0.00067124541460385505,\n",
       " 0.000691740085442899,\n",
       " 0.00067854081689714925,\n",
       " 0.00067083616345584875,\n",
       " 0.00067321525101929184,\n",
       " 0.00067454568907770963,\n",
       " 0.00068837817186573292,\n",
       " 0.00067074785716069634,\n",
       " 0.00067709122972623131,\n",
       " 0.00068114974082361072,\n",
       " 0.00068949399840479515,\n",
       " 0.00067566924984432746,\n",
       " 0.00067900510721381443,\n",
       " 0.0006905723475574742,\n",
       " 0.00068267725777768171,\n",
       " 0.00067915768023128634,\n",
       " 0.00067353545385467894,\n",
       " 0.00069229311917010279,\n",
       " 0.00068640996312611946,\n",
       " 0.00067677315134344665,\n",
       " 0.0006922299490635086,\n",
       " 0.00066463928175632527,\n",
       " 0.0006830102030264475,\n",
       " 0.00068862416649113044,\n",
       " 0.00067140926974103494,\n",
       " 0.00068742691627525119,\n",
       " 0.00067175653950343652,\n",
       " 0.00069056276739507514,\n",
       " 0.00069065015791006394,\n",
       " 0.0006830105621358735,\n",
       " 0.00067470933615994906,\n",
       " 0.00068967650243403596,\n",
       " 0.0006812170034503326,\n",
       " 0.00068226406927445382,\n",
       " 0.00068080018252175429,\n",
       " 0.00066501944485828095,\n",
       " 0.00067258909982963926,\n",
       " 0.00066582055994922514,\n",
       " 0.0006727840497869293,\n",
       " 0.00068192191210322611,\n",
       " 0.00066561535047238846,\n",
       " 0.00067590394774323952,\n",
       " 0.00067790376726507406,\n",
       " 0.00068540625859108523,\n",
       " 0.00066696385089076715,\n",
       " 0.0006775031585467302,\n",
       " 0.00067892890455807534,\n",
       " 0.00067819850981309579,\n",
       " 0.00067555522015252392,\n",
       " 0.00067643350573834296,\n",
       " 0.00068741303416828029,\n",
       " 0.00068234262214820444,\n",
       " 0.00067711112170043173,\n",
       " 0.00068602172957207689,\n",
       " 0.00067124621910642681,\n",
       " 0.00067247173058187463,\n",
       " 0.00069043437593835062,\n",
       " 0.00066322306472816597,\n",
       " 0.0006802573615530107,\n",
       " 0.00067409932079635167,\n",
       " 0.00067278388837885186,\n",
       " 0.00068462405911384717,\n",
       " 0.00067822843624038389,\n",
       " 0.00067155559543112477,\n",
       " 0.00069309408624188462,\n",
       " 0.00068128185865200502,\n",
       " 0.00067727667098590745,\n",
       " 0.00069302953264433614,\n",
       " 0.00068069650645093138,\n",
       " 0.00069184457771482525,\n",
       " 0.00068946608981114486,\n",
       " 0.00069638908286252625,\n",
       " 0.00068264800042435814,\n",
       " 0.00067598714114368611,\n",
       " 0.00067989725678253897,\n",
       " 0.00068441089184644694,\n",
       " 0.0006730959244455459,\n",
       " 0.00067810832835352283,\n",
       " 0.00068074259597885667,\n",
       " 0.00067762498654080872,\n",
       " 0.0006667315864624107,\n",
       " 0.00069409913922373237,\n",
       " 0.00067776712006289291,\n",
       " 0.00067958951015759279,\n",
       " 0.00068195268200579775,\n",
       " 0.000672435800564441,\n",
       " 0.00067982264613895783,\n",
       " 0.00068427437041794319,\n",
       " 0.00069343298330299503,\n",
       " 0.00068303464139456334,\n",
       " 0.0006682553810655658,\n",
       " 0.00067423173062975078,\n",
       " 0.000672451706827199,\n",
       " 0.00067456092631161221,\n",
       " 0.00067025053596159526,\n",
       " 0.00068489063330641161,\n",
       " 0.0006903759761186937,\n",
       " 0.00067611999767204901,\n",
       " 0.00068726053135158814,\n",
       " 0.00067084790013663702,\n",
       " 0.00068001109653405007,\n",
       " 0.00067929529730118921,\n",
       " 0.00067539192680857781,\n",
       " 0.00068390691273570794,\n",
       " 0.00068214594651312915,\n",
       " 0.00068227217033010738,\n",
       " 0.00066556752418723468,\n",
       " 0.00068462194740000085,\n",
       " 0.00067079678282389651,\n",
       " 0.00068234227486649313,\n",
       " 0.00068037329864250077,\n",
       " 0.00068733497130808567,\n",
       " 0.00069883025446159654,\n",
       " 0.00069037763975185028,\n",
       " 0.00067373383148643107,\n",
       " 0.00069644529972281023,\n",
       " 0.00067509369028277276,\n",
       " 0.00067251920031198185,\n",
       " 0.00069274784802597492,\n",
       " 0.0006794735773993822,\n",
       " 0.00067455649138015508,\n",
       " 0.00066555343242092073,\n",
       " 0.00067802131626301882,\n",
       " 0.00068742803981801175,\n",
       " 0.00068138840687589474,\n",
       " 0.00067018083242918996,\n",
       " 0.00068498509582788712,\n",
       " 0.00068482451226997004,\n",
       " 0.00068944163950396351,\n",
       " 0.00066408802981120978,\n",
       " 0.00066894146559339505,\n",
       " 0.00068412598086645701,\n",
       " 0.00067924305841967735,\n",
       " 0.00067564309546067709,\n",
       " 0.00068529139187121591,\n",
       " 0.00068130695642699881,\n",
       " 0.00068145751164728032,\n",
       " 0.00068120129898759823,\n",
       " 0.00066508080021298157,\n",
       " 0.00067309907682410299,\n",
       " 0.00067603429035473879,\n",
       " 0.00068737151212699835,\n",
       " 0.0006832740308958217,\n",
       " 0.00068795045516968623,\n",
       " 0.00067991295035854096,\n",
       " 0.00068605878141795879,\n",
       " 0.00067976051692509188,\n",
       " 0.00067079322659099742,\n",
       " 0.00067679675568706502,\n",
       " 0.00067272491307999516,\n",
       " 0.00067809101348939582,\n",
       " 0.00068125549565553666,\n",
       " 0.00066581774586841594,\n",
       " 0.00067583458102054303,\n",
       " 0.00067613244931735413,\n",
       " 0.00068439546209917866,\n",
       " 0.00067761921571684886,\n",
       " 0.0006822775697285623,\n",
       " 0.00068347431358456283,\n",
       " 0.00068217352119652691,\n",
       " 0.0006650395676827866,\n",
       " 0.00066425227241346608,\n",
       " 0.00068284401414241038,\n",
       " 0.0006675942900245818,\n",
       " 0.00067740721042578464,\n",
       " 0.00067147704005911073,\n",
       " 0.00068197719911933209,\n",
       " 0.00067712806506184202,\n",
       " 0.00067810811350764216,\n",
       " 0.00066374634952099537,\n",
       " 0.00066480012260826534,\n",
       " 0.00067493646312715534,\n",
       " 0.00068403039090446534,\n",
       " 0.00067928390223553469,\n",
       " 0.00067643136324398309,\n",
       " 0.00067515054983172779,\n",
       " 0.00067189136615679378,\n",
       " 0.00067452005854465715,\n",
       " 0.00067268368314096349,\n",
       " 0.0006945341784603252,\n",
       " 0.00066843925216164817,\n",
       " 0.00067844281762117922,\n",
       " 0.00068293475295991073,\n",
       " 0.00067379274543536967,\n",
       " 0.00068652440293874475,\n",
       " 0.00068297668521078608,\n",
       " 0.00068147532525601046,\n",
       " 0.00067921849150229079,\n",
       " 0.00069148811669591213,\n",
       " 0.00068566276199362539,\n",
       " 0.00067920078749169699,\n",
       " 0.00067192144035096643,\n",
       " 0.0006679155381496977,\n",
       " 0.00069086154172518421,\n",
       " 0.00068405728447243428,\n",
       " 0.00067732039192931715,\n",
       " 0.00068127529954710908,\n",
       " 0.00067763519197659673,\n",
       " 0.00067548777304600319,\n",
       " 0.00067757556796990605,\n",
       " 0.00067136852897897107,\n",
       " 0.0006803523826532633,\n",
       " 0.00066769241435164252,\n",
       " 0.00067981199289225485,\n",
       " 0.00068670604032959116,\n",
       " 0.00068096937040205941,\n",
       " 0.00068421983731803773,\n",
       " 0.00068002988291283905,\n",
       " 0.00067369680386655632,\n",
       " 0.00068708016317867453,\n",
       " 0.00067329447919203594,\n",
       " 0.00069262807376489809,\n",
       " 0.00066926871369443969,\n",
       " 0.00068435257792571265,\n",
       " 0.00067993048537311163,\n",
       " 0.00068153605132036403,\n",
       " 0.00067612390982022853,\n",
       " 0.00068262647106297669,\n",
       " 0.00067687445950724817,\n",
       " 0.00067300160344247731,\n",
       " 0.00066531672811271497,\n",
       " 0.00067720498855711674,\n",
       " 0.00068345606736656711,\n",
       " 0.00068326475312847608,\n",
       " 0.00068522779510996924,\n",
       " 0.0006691111122485129,\n",
       " 0.00068727184324357971,\n",
       " 0.00068386298890699528,\n",
       " 0.00067170923281385363,\n",
       " 0.00066751949286354988,\n",
       " 0.00067527104007552219,\n",
       " 0.00067428362518651738,\n",
       " 0.00068542444396414021,\n",
       " 0.00067980753950494554,\n",
       " 0.00067747371930104749,\n",
       " 0.00066371019911027013,\n",
       " 0.00066997252504411627,\n",
       " 0.0006758181185318174,\n",
       " 0.00067666654268376796,\n",
       " 0.000678516241929002,\n",
       " 0.00067959464270161106,\n",
       " 0.00067332649170475072,\n",
       " 0.0006872409511317506,\n",
       " 0.00068639172031949791,\n",
       " 0.00068277070580044909,\n",
       " 0.00069025800695399697,\n",
       " 0.0006744220661433724,\n",
       " 0.00067780176047536726,\n",
       " 0.00068590703909837821,\n",
       " 0.00069213688498719495,\n",
       " 0.00068479364782796017,\n",
       " 0.00069119279952259492,\n",
       " 0.00068159277890648409,\n",
       " 0.00067013444283393073,\n",
       " 0.00067883223829310474,\n",
       " 0.00066518221252998119,\n",
       " 0.00068135969471419956,\n",
       " 0.00068148549561833284,\n",
       " 0.00068127890637732227,\n",
       " 0.00067979176468487554,\n",
       " 0.00067823094691527237,\n",
       " 0.0006913374763587724,\n",
       " 0.00067276841829314417,\n",
       " 0.00066480987502158192,\n",
       " 0.00067715078858043712,\n",
       " 0.00067661897308411917,\n",
       " 0.00068908656027273499,\n",
       " 0.00068090162064524259,\n",
       " 0.00067349787155551895,\n",
       " 0.00067489251635751508,\n",
       " 0.0006777043399731139,\n",
       " 0.0006809072890864178,\n",
       " 0.00070242468719564251,\n",
       " 0.00068520207964882594,\n",
       " 0.000681949300053442,\n",
       " 0.00068305427127073992,\n",
       " 0.00068331011836120692,\n",
       " 0.00068298744698544413,\n",
       " 0.00068393653970198179,\n",
       " 0.00068538269372484147,\n",
       " 0.00068681880196290142,\n",
       " 0.00067772707908154387,\n",
       " 0.00067523681347801971,\n",
       " 0.00067455163523133727,\n",
       " 0.0006807590753981251,\n",
       " 0.00068640419910740878,\n",
       " 0.0006832469279759078,\n",
       " 0.00066601965040992102,\n",
       " 0.00067329829610830716,\n",
       " 0.00069279480473990248,\n",
       " 0.00067788214389548232,\n",
       " 0.00068141264646607734,\n",
       " 0.00067351152800532686,\n",
       " 0.00067971942395253851,\n",
       " 0.00068051727521703292,\n",
       " 0.000683990390645598,\n",
       " 0.0006774041438192389,\n",
       " 0.00068812634334490259,\n",
       " 0.00068067920164455859,\n",
       " 0.00068239252462702442,\n",
       " 0.00067060516189688566,\n",
       " 0.000674455445758993,\n",
       " 0.0006724176423190375,\n",
       " 0.00066886001343603176,\n",
       " 0.00066511537007681151,\n",
       " 0.00066523368356127171,\n",
       " 0.00068867415318076691,\n",
       " 0.00069320074723823444,\n",
       " 0.00068563182862732899,\n",
       " 0.00068104424237812192,\n",
       " 0.00068013239281191663,\n",
       " 0.00066477925230067167,\n",
       " 0.00067697330085809135,\n",
       " 0.00067976018411945629,\n",
       " 0.00067635871272333267,\n",
       " 0.00068253340158516858,\n",
       " 0.00067663898389253539,\n",
       " 0.00066844759971561741,\n",
       " 0.00068307851454368169,\n",
       " 0.00067963385324664794,\n",
       " 0.0006742576002736261,\n",
       " 0.00068522444566745336,\n",
       " 0.00068632762581557257,\n",
       " 0.00068029574289317062,\n",
       " 0.00066767309058076341,\n",
       " 0.00068105814770460019,\n",
       " 0.00067856589538608202,\n",
       " 0.00068692996064870454,\n",
       " 0.00068062991649684703,\n",
       " 0.00071220401440406456,\n",
       " 0.00067867095097658744,\n",
       " 0.00068511525020583568,\n",
       " 0.00068106466116162761,\n",
       " 0.00067400931738428838,\n",
       " 0.00068334341944515937,\n",
       " 0.00068082231825316675,\n",
       " 0.00068157382038486235,\n",
       " 0.0006826811106771637,\n",
       " 0.00067438268893653516,\n",
       " 0.00068854724388227719,\n",
       " 0.00068340281806630052,\n",
       " 0.00066501821934260644,\n",
       " 0.00067858836456861048,\n",
       " 0.00068212961309252983,\n",
       " 0.00068070110471345126,\n",
       " 0.00068635775404904094,\n",
       " 0.00068293972124842083,\n",
       " 0.00067895942572932964,\n",
       " 0.00068478949798725212,\n",
       " 0.00066965505038058231,\n",
       " 0.00067837526236560997,\n",
       " 0.00068121768235977276,\n",
       " 0.00067382041749803679,\n",
       " 0.00068136192281195533,\n",
       " 0.0006816132211914719,\n",
       " 0.00071658744551370782,\n",
       " 0.00068629859236665845,\n",
       " 0.00068263766418338076,\n",
       " 0.00067981659853357413,\n",
       " 0.000671465289578301,\n",
       " 0.00067793175267963953,\n",
       " 0.00067429741969376262,\n",
       " 0.00069032204742366812,\n",
       " 0.00067871463560376457,\n",
       " 0.00066248445249453812,\n",
       " 0.00066834500058112519,\n",
       " 0.00066613209263502275,\n",
       " 0.00067960057049331636,\n",
       " 0.00068191449676150578,\n",
       " 0.00067430881784811408,\n",
       " 0.00068787176661154806,\n",
       " 0.00068491188539799663,\n",
       " 0.00068367316007872305,\n",
       " 0.00068131391509408462,\n",
       " 0.00066941656222662977,\n",
       " 0.00066500261446037325,\n",
       " 0.00068279578536805351,\n",
       " 0.00068184571866447498,\n",
       " 0.00067344442284125261,\n",
       " 0.00067414326056129247,\n",
       " 0.00068549131838661198,\n",
       " 0.00068211232168556275,\n",
       " 0.00068780283499002509,\n",
       " 0.00067846605386713327,\n",
       " 0.00068297706517474492,\n",
       " 0.0006735438528953755,\n",
       " 0.00067629174682200775,\n",
       " 0.00067962627953304028,\n",
       " 0.00066660588865416817,\n",
       " 0.0006819468050343326,\n",
       " 0.00067527567662819166,\n",
       " 0.0006823427030697056,\n",
       " 0.00068792094153671769,\n",
       " 0.00068129121523402179,\n",
       " 0.00066696804700246571,\n",
       " 0.00068065145415840955,\n",
       " 0.00066414443713131007,\n",
       " 0.00066675888409023119,\n",
       " 0.00068421437520300695,\n",
       " 0.00067185269480155442,\n",
       " 0.00068040637882978031,\n",
       " 0.0006770538253443656,\n",
       " 0.00068204575229935383,\n",
       " 0.00067395387748251864,\n",
       " 0.00067638433097130021,\n",
       " 0.00068371682450702701,\n",
       " 0.00069626900119940484,\n",
       " 0.00068891003296624078,\n",
       " 0.00067265605424540514,\n",
       " 0.00068194713055901772,\n",
       " 0.00066908805612780518,\n",
       " 0.00067557751841938447,\n",
       " 0.00066585231187737048,\n",
       " 0.00067101819876141369,\n",
       " 0.00068342098724335977,\n",
       " 0.00067085952984009822,\n",
       " 0.00067001279364777933,\n",
       " 0.00068180645144399945,\n",
       " 0.00068187365913547021,\n",
       " 0.00068613011070278122,\n",
       " 0.00067989785490800609,\n",
       " 0.00067970802880758273,\n",
       " 0.00067964523815802335,\n",
       " 0.00068058098648715202,\n",
       " 0.00067457405739194791,\n",
       " 0.00069183118588808299,\n",
       " 0.00067801889552611915,\n",
       " 0.00069188556860123917,\n",
       " 0.00067940734535728783,\n",
       " 0.00069090886814708499,\n",
       " 0.0006839832420377105,\n",
       " 0.0006741020180416902,\n",
       " 0.00068926999056217813,\n",
       " 0.00068065483170546724,\n",
       " 0.00067195904443766337,\n",
       " 0.00066501569719831473,\n",
       " 0.00067832482544123165,\n",
       " 0.00066838408850576202,\n",
       " 0.00068822102594107311,\n",
       " 0.00069500706290348145,\n",
       " 0.00067399303170712251,\n",
       " 0.00067506765951238351,\n",
       " 0.00067316997800524888,\n",
       " 0.00067389373245415338,\n",
       " 0.0006750135201756104,\n",
       " 0.00068384403374276463,\n",
       " 0.00067645701793631453,\n",
       " 0.00069455871683225682,\n",
       " 0.00068076959474860834,\n",
       " 0.00067817950200121707,\n",
       " 0.00068400441075024707,\n",
       " 0.0006696723235211727,\n",
       " 0.00066999864653192142,\n",
       " 0.00067375889899316756,\n",
       " 0.00068036376750483,\n",
       " 0.00068304476380212197,\n",
       " 0.00066789185251336144,\n",
       " 0.00067247993510675995,\n",
       " 0.000676959540614159,\n",
       " 0.00067882880248442605,\n",
       " 0.00066935295599732222,\n",
       " 0.00067981127936951179,\n",
       " 0.00068004910985600836,\n",
       " 0.00068295457533853793,\n",
       " 0.0006756197433232863,\n",
       " 0.00067067516022097237,\n",
       " 0.00067628880500727377,\n",
       " 0.00068128656745921636,\n",
       " 0.0006744162290919835,\n",
       " 0.0006807551603292256,\n",
       " 0.00068256120451045245,\n",
       " 0.00068127782438777526,\n",
       " 0.00068515367296053927,\n",
       " 0.00068403779524409374,\n",
       " 0.0006675018622481748,\n",
       " 0.00068141122076104609,\n",
       " 0.00067138064642206872,\n",
       " 0.00066770552560892237,\n",
       " 0.00066578789240235355,\n",
       " 0.00068849606027995803,\n",
       " 0.00069120949665408009,\n",
       " 0.00067333638792586642,\n",
       " 0.00067414480372855929,\n",
       " 0.00068694457100663367,\n",
       " 0.00067157190079733271,\n",
       " 0.00067109038433654843,\n",
       " 0.00067933192290184081,\n",
       " 0.00067373158489066542,\n",
       " 0.00067729354174751732,\n",
       " 0.00068815177263631107,\n",
       " 0.00067856585295673736,\n",
       " 0.0006743481470677529,\n",
       " 0.00069572864658961708,\n",
       " 0.00067247391359129879,\n",
       " 0.00068150387718265808,\n",
       " 0.00068758959974684144,\n",
       " 0.00068340910131144442,\n",
       " 0.00069144713202929427,\n",
       " 0.00069443629223614337,\n",
       " 0.00068906781670995652,\n",
       " 0.00067840349797487103,\n",
       " 0.00071219292651851767,\n",
       " 0.00066704064692111069,\n",
       " 0.00067225315393276274,\n",
       " 0.00067849420728857115,\n",
       " 0.00067564561816834063,\n",
       " 0.00068247327315312356,\n",
       " 0.00069053645420945342,\n",
       " 0.00070230420926804902,\n",
       " 0.00069376316044423572,\n",
       " 0.00069525559712923677,\n",
       " 0.00067477464450728592,\n",
       " 0.00068829496451847886,\n",
       " 0.00067168330922582568,\n",
       " 0.00067974879607954699,\n",
       " 0.00066725624898468711,\n",
       " 0.00067922194698978285,\n",
       " 0.00068587930438748291,\n",
       " 0.00067706589319825551,\n",
       " 0.00068267098275998008,\n",
       " 0.00066940756759682047,\n",
       " 0.00068133167675157663,\n",
       " 0.00066897690587138046,\n",
       " 0.00068155883403008932,\n",
       " 0.00067984172299986911,\n",
       " 0.00067325694570507394,\n",
       " 0.00068700227313110848,\n",
       " 0.00068543621285144772,\n",
       " 0.00066535668508287962,\n",
       " 0.0006710054853522095,\n",
       " 0.00070102392996657071,\n",
       " 0.00067564477635235229,\n",
       " 0.00068507143366894254,\n",
       " 0.00067942409521956626,\n",
       " 0.00066355888412249458,\n",
       " 0.00066601665529887491,\n",
       " 0.00068058264152264685,\n",
       " 0.00068796563095280868,\n",
       " 0.00068458143760866542,\n",
       " 0.00068859146196562743,\n",
       " 0.000679018034370519,\n",
       " 0.00067951957223837069,\n",
       " 0.0006782511447518411,\n",
       " 0.00068416759551194169,\n",
       " 0.0006796421512309911,\n",
       " 0.00068723433432100892,\n",
       " 0.00067524070860098574,\n",
       " 0.00068708681785514434,\n",
       " 0.00067472170145609729,\n",
       " 0.00067770758177781011,\n",
       " 0.00068380498207881865,\n",
       " 0.00068141743339040128,\n",
       " ...]"
      ]
     },
     "execution_count": 184,
     "metadata": {},
     "output_type": "execute_result"
    }
   ],
   "source": [
    "predicted1_svm"
   ]
  },
  {
   "cell_type": "code",
   "execution_count": 79,
   "metadata": {
    "collapsed": false
   },
   "outputs": [
    {
     "data": {
      "text/plain": [
       "(array([  6.00000000e+00,   8.08800000e+03,   4.75250000e+04,\n",
       "          1.08540000e+05,   9.30040000e+04,   3.47130000e+04,\n",
       "          5.74100000e+03,   1.45200000e+03,   6.16000000e+02,\n",
       "          6.40000000e+01]),\n",
       " array([ 0.00064462,  0.00065237,  0.00066011,  0.00066785,  0.00067559,\n",
       "         0.00068334,  0.00069108,  0.00069882,  0.00070656,  0.00071431,\n",
       "         0.00072205]),\n",
       " <a list of 10 Patch objects>)"
      ]
     },
     "execution_count": 79,
     "metadata": {},
     "output_type": "execute_result"
    },
    {
     "data": {
      "image/png": "[encoded data removed]",
      "text/plain": [
       "<matplotlib.figure.Figure at 0x159f26f28>"
      ]
     },
     "metadata": {},
     "output_type": "display_data"
    }
   ],
   "source": [
    "plt.hist(predicted1_svm)"
   ]
  },
  {
   "cell_type": "code",
   "execution_count": 90,
   "metadata": {
    "collapsed": false
   },
   "outputs": [
    {
     "data": {
      "text/plain": [
       "0.00075340021063970044"
      ]
     },
     "execution_count": 90,
     "metadata": {},
     "output_type": "execute_result"
    }
   ],
   "source": [
    "#线性回归\n",
    "sk.metrics.mean_squared_error(test_label,predicted1_svm)\n"
   ]
  },
  {
   "cell_type": "code",
   "execution_count": 91,
   "metadata": {
    "collapsed": false
   },
   "outputs": [
    {
     "data": {
      "text/plain": [
       "0.50038353755332332"
      ]
     },
     "execution_count": 91,
     "metadata": {},
     "output_type": "execute_result"
    }
   ],
   "source": [
    "#线性回归\n",
    "sk.metrics.roc_auc_score(test_label,predicted1_svm)"
   ]
  },
  {
   "cell_type": "code",
   "execution_count": 100,
   "metadata": {
    "collapsed": false
   },
   "outputs": [],
   "source": [
    "def GetRates(actives, scores):\n",
    "\n",
    "    tpr = [0.0]  # true positive rate\n",
    "    fpr = [0.0]  # false positive rate\n",
    "    nractives = len(actives)\n",
    "    nrdecoys = len(scores) - len(actives)\n",
    "\n",
    "    foundactives = 0.0\n",
    "    founddecoys = 0.0\n",
    "    for idx, (id, score) in enumerate(scores):\n",
    "        if id in actives:\n",
    "            foundactives += 1.0\n",
    "        else:\n",
    "            founddecoys += 1.0\n",
    "\n",
    "        tpr.append(foundactives / float(nractives))\n",
    "        fpr.append(founddecoys / float(nrdecoys))\n",
    "\n",
    "    return tpr, fpr"
   ]
  },
  {
   "cell_type": "code",
   "execution_count": 98,
   "metadata": {
    "collapsed": false
   },
   "outputs": [
    {
     "ename": "ImportError",
     "evalue": "No module named 'scikitplot'",
     "output_type": "error",
     "traceback": [
      "\u001b[0;31m---------------------------------------------------------------------------\u001b[0m",
      "\u001b[0;31mImportError\u001b[0m                               Traceback (most recent call last)",
      "\u001b[0;32m<ipython-input-98-53124e107bed>\u001b[0m in \u001b[0;36m<module>\u001b[0;34m()\u001b[0m\n\u001b[0;32m----> 1\u001b[0;31m \u001b[0;32mimport\u001b[0m \u001b[0mscikitplot\u001b[0m\u001b[0;34m.\u001b[0m\u001b[0mplotters\u001b[0m \u001b[0;32mas\u001b[0m \u001b[0mskplt\u001b[0m\u001b[0;34m\u001b[0m\u001b[0m\n\u001b[0m\u001b[1;32m      2\u001b[0m \u001b[0;32mimport\u001b[0m \u001b[0mmatplotlib\u001b[0m\u001b[0;34m.\u001b[0m\u001b[0mpyplot\u001b[0m \u001b[0;32mas\u001b[0m \u001b[0mplt\u001b[0m\u001b[0;34m\u001b[0m\u001b[0m\n\u001b[1;32m      3\u001b[0m \u001b[0;34m\u001b[0m\u001b[0m\n\u001b[1;32m      4\u001b[0m \u001b[0my_true\u001b[0m \u001b[0;34m=\u001b[0m \u001b[0mtest_label\u001b[0m\u001b[0;34m\u001b[0m\u001b[0m\n\u001b[1;32m      5\u001b[0m \u001b[0my_probas\u001b[0m \u001b[0;34m=\u001b[0m \u001b[0mpredicted1_svm\u001b[0m\u001b[0;34m\u001b[0m\u001b[0m\n",
      "\u001b[0;31mImportError\u001b[0m: No module named 'scikitplot'"
     ]
    }
   ],
   "source": [
    "import scikitplot.plotters as skplt\n",
    "import matplotlib.pyplot as plt\n",
    "\n",
    "y_true = test_label\n",
    "y_probas = predicted1_svm\n",
    "plt.plot_roc_curve(y_true, y_probas)\n",
    "plt.show()"
   ]
  },
  {
   "cell_type": "markdown",
   "metadata": {},
   "source": [
    "### plt.hist(predicted)"
   ]
  },
  {
   "cell_type": "code",
   "execution_count": 65,
   "metadata": {
    "collapsed": false
   },
   "outputs": [
    {
     "data": {
      "text/plain": [
       "0    299523\n",
       "1       226\n",
       "Name: click, dtype: int64"
      ]
     },
     "execution_count": 65,
     "metadata": {},
     "output_type": "execute_result"
    }
   ],
   "source": [
    "index_val.click.value_counts()"
   ]
  },
  {
   "cell_type": "code",
   "execution_count": 6,
   "metadata": {
    "collapsed": false
   },
   "outputs": [],
   "source": [
    "import collections as c\n",
    "\n",
    "def index_pre(a_list):\n",
    "    userid_n = []\n",
    "    userid_d = c.defaultdict()\n",
    "    index = 1\n",
    "\n",
    "    for user in a_list:\n",
    "        if user in userid_d.keys():\n",
    "            userid_n.append(userid_d[user])\n",
    "        else:\n",
    "            userid_d[user] = index\n",
    "            userid_n.append(userid_d[user])\n",
    "            index += 1\n",
    "    return userid_n,userid_d\n",
    "\n",
    "        "
   ]
  },
  {
   "cell_type": "code",
   "execution_count": 74,
   "metadata": {
    "collapsed": false
   },
   "outputs": [],
   "source": [
    "tags= []\n",
    "for usertag in train.usertag:\n",
    "    for tag in usertag.split(','):\n",
    "        if tag not in tags:\n",
    "            tags.append(tag)\n",
    "    "
   ]
  },
  {
   "cell_type": "code",
   "execution_count": 105,
   "metadata": {
    "collapsed": false
   },
   "outputs": [],
   "source": [
    "L = []\n",
    "for t in tags:\n",
    "    s = 'L'+t\n",
    "    L.append(s)"
   ]
  },
  {
   "cell_type": "code",
   "execution_count": 106,
   "metadata": {
    "collapsed": false
   },
   "outputs": [],
   "source": [
    "for i,t in enumerate(tags):\n",
    "    L[i]= []\n",
    "    for string in train.usertag:\n",
    "        if string.find(t) < 0:\n",
    "            L[i].append(0)\n",
    "        else:\n",
    "            L[i].append(1)"
   ]
  },
  {
   "cell_type": "code",
   "execution_count": 118,
   "metadata": {
    "collapsed": false
   },
   "outputs": [],
   "source": [
    "df= pd.DataFrame()\n",
    "for i in range(0,69):\n",
    "    se = pd.Series(L[i])\n",
    "    df['tag'+str(i)] = se.values"
   ]
  },
  {
   "cell_type": "code",
   "execution_count": 153,
   "metadata": {
    "collapsed": true
   },
   "outputs": [],
   "source": [
    "# validation function\n",
    "\n",
    "def validation(bidding):\n",
    "    new= val.assign(bidding = bidding, diff= bidding -val['payprice'])\n",
    "    new= new[new['diff'] >= 0]\n",
    "    clicks =sum(new['click'])\n",
    "    ctr= clicks/len(new)\n",
    "    spend = sum(new['payprice'])/1000\n",
    "    cpc = spend/clicks\n",
    "    cpm = spend/len(new)\n",
    "    return [ctr,spend,cpc,cpm,clicks]\n",
    "    "
   ]
  },
  {
   "cell_type": "code",
   "execution_count": 10,
   "metadata": {
    "collapsed": true
   },
   "outputs": [],
   "source": [
    "def non_lin(c,predict):\n",
    "    lam= 5.2e-7\n",
    "    bid_price = []\n",
    "    for ctr in predict:\n",
    "        #biding_p=c*((((ctr+np.sqrt(c**2*lam**2+ctr**2))/c*lam)**(1/3))-((c*lam/(ctr+np.sqrt(c**2*lam**2+ctr**2)))**(1/3)))\n",
    "        b= c*(((ctr + np.sqrt(c**2 * lam**2 +ctr**2))/(c*lam))**(1/3)) - (((c*lam)/(ctr + np.sqrt(c**2 * lam**2 +ctr**2))) ** (1/3))\n",
    "        bid_price.append(b)\n",
    "    return bid_price"
   ]
  },
  {
   "cell_type": "code",
   "execution_count": 66,
   "metadata": {
    "collapsed": true
   },
   "outputs": [],
   "source": [
    "result_svm= []\n",
    "for c in range(1,150,1):\n",
    "    bid_price= non_lin(c,predicted1_svm)\n",
    "    re = validation_budget(bid_price,25000)\n",
    "    result_svm.append(re)\n",
    "    \n",
    "clicks =[]\n",
    "spend = []\n",
    "\n",
    "for r in result_svm:\n",
    "    clicks.append(r[4])\n",
    "    spend.append(r[1])"
   ]
  },
  {
   "cell_type": "code",
   "execution_count": 72,
   "metadata": {
    "collapsed": false
   },
   "outputs": [
    {
     "data": {
      "image/png": "[encoded data removed]",
      "text/plain": [
       "<matplotlib.figure.Figure at 0x190cc55f8>"
      ]
     },
     "metadata": {},
     "output_type": "display_data"
    }
   ],
   "source": [
    "\n",
    "fig, ax1 = plt.subplots()\n",
    "x = range(1,150,1)\n",
    "\n",
    "ax1.plot(x, clicks, 'b-')\n",
    "ax1.set_xlabel('bidding_price')\n",
    "# Make the y-axis label, ticks and tick labels match the line color.\n",
    "ax1.set_ylabel('Clicks', color='b')\n",
    "ax1.tick_params('y', colors='b')\n",
    "\n",
    "ax2 = ax1.twinx()\n",
    "\n",
    "ax2.plot(x, spend, 'r.')\n",
    "ax2.set_ylabel('Spend', color='r')\n",
    "ax2.tick_params('y', colors='r')\n",
    "\n",
    "fig.tight_layout()\n",
    "plt.show()"
   ]
  },
  {
   "cell_type": "code",
   "execution_count": 70,
   "metadata": {
    "collapsed": false
   },
   "outputs": [
    {
     "data": {
      "text/plain": [
       "[10,\n",
       " 16,\n",
       " 22,\n",
       " 26,\n",
       " 30,\n",
       " 36,\n",
       " 43,\n",
       " 50,\n",
       " 53,\n",
       " 56,\n",
       " 58,\n",
       " 74,\n",
       " 81,\n",
       " 100,\n",
       " 109,\n",
       " 115,\n",
       " 121,\n",
       " 121,\n",
       " 124,\n",
       " 128,\n",
       " 133,\n",
       " 135,\n",
       " 136,\n",
       " 138,\n",
       " 140,\n",
       " 148,\n",
       " 151,\n",
       " 154,\n",
       " 156,\n",
       " 158,\n",
       " 159,\n",
       " 160,\n",
       " 164,\n",
       " 166,\n",
       " 167,\n",
       " 168,\n",
       " 169,\n",
       " 171,\n",
       " 172,\n",
       " 175,\n",
       " 175,\n",
       " 178,\n",
       " 180,\n",
       " 182,\n",
       " 183,\n",
       " 187,\n",
       " 192,\n",
       " 194,\n",
       " 194,\n",
       " 195,\n",
       " 195,\n",
       " 195,\n",
       " 196,\n",
       " 196,\n",
       " 197,\n",
       " 199,\n",
       " 199,\n",
       " 201,\n",
       " 202,\n",
       " 203,\n",
       " 205,\n",
       " 205,\n",
       " 205,\n",
       " 206,\n",
       " 207,\n",
       " 207,\n",
       " 209,\n",
       " 210,\n",
       " 212,\n",
       " 213,\n",
       " 214,\n",
       " 215,\n",
       " 215,\n",
       " 215,\n",
       " 215,\n",
       " 215,\n",
       " 216,\n",
       " 216,\n",
       " 217,\n",
       " 218,\n",
       " 219,\n",
       " 221,\n",
       " 221,\n",
       " 221,\n",
       " 221,\n",
       " 221,\n",
       " 221,\n",
       " 222,\n",
       " 222,\n",
       " 223,\n",
       " 223,\n",
       " 223,\n",
       " 225,\n",
       " 225,\n",
       " 225,\n",
       " 225,\n",
       " 225,\n",
       " 225,\n",
       " 225,\n",
       " 225,\n",
       " 225,\n",
       " 225,\n",
       " 226,\n",
       " 226,\n",
       " 226,\n",
       " 226,\n",
       " 226,\n",
       " 226,\n",
       " 226,\n",
       " 226,\n",
       " 226,\n",
       " 226,\n",
       " 226,\n",
       " 226,\n",
       " 226,\n",
       " 226,\n",
       " 226,\n",
       " 226,\n",
       " 226,\n",
       " 226,\n",
       " 226,\n",
       " 226,\n",
       " 226,\n",
       " 226,\n",
       " 226,\n",
       " 226,\n",
       " 226,\n",
       " 226,\n",
       " 226,\n",
       " 226,\n",
       " 226,\n",
       " 226,\n",
       " 226,\n",
       " 226,\n",
       " 226,\n",
       " 226,\n",
       " 226,\n",
       " 226,\n",
       " 226,\n",
       " 226,\n",
       " 226,\n",
       " 226,\n",
       " 226,\n",
       " 226,\n",
       " 226,\n",
       " 226,\n",
       " 226,\n",
       " 226,\n",
       " 226]"
      ]
     },
     "execution_count": 70,
     "metadata": {},
     "output_type": "execute_result"
    }
   ],
   "source": [
    "clicks"
   ]
  },
  {
   "cell_type": "code",
   "execution_count": 17,
   "metadata": {
    "collapsed": true
   },
   "outputs": [],
   "source": [
    "result= []\n",
    "for c in range(25,100,1):\n",
    "    bid_price= non_lin(c)\n",
    "    re = validation(bid_price)\n",
    "    result.append(re)\n",
    "   "
   ]
  },
  {
   "cell_type": "code",
   "execution_count": 18,
   "metadata": {
    "collapsed": true
   },
   "outputs": [],
   "source": [
    "clicks =[]\n",
    "spend = []\n",
    "\n",
    "for r in result:\n",
    "    clicks.append(r[4])\n",
    "    spend.append(r[1])"
   ]
  },
  {
   "cell_type": "code",
   "execution_count": 65,
   "metadata": {
    "collapsed": false
   },
   "outputs": [
    {
     "data": {
      "image/png": "[encoded data removed]",
      "text/plain": [
       "<matplotlib.figure.Figure at 0x152fc2da0>"
      ]
     },
     "metadata": {},
     "output_type": "display_data"
    }
   ],
   "source": [
    "\n",
    "fig, ax1 = plt.subplots()\n",
    "x = range(25,100,1)\n",
    "\n",
    "ax1.plot(x, clicks, 'b-')\n",
    "ax1.set_xlabel('bidding_price')\n",
    "# Make the y-axis label, ticks and tick labels match the line color.\n",
    "ax1.set_ylabel('Clicks', color='b')\n",
    "ax1.tick_params('y', colors='b')\n",
    "\n",
    "ax2 = ax1.twinx()\n",
    "\n",
    "ax2.plot(x, spend, 'r.')\n",
    "ax2.set_ylabel('Spend', color='r')\n",
    "ax2.tick_params('y', colors='r')\n",
    "\n",
    "fig.tight_layout()\n",
    "plt.show()"
   ]
  },
  {
   "cell_type": "code",
   "execution_count": 13,
   "metadata": {
    "collapsed": true
   },
   "outputs": [],
   "source": [
    "def validation_budget(bidding,budget):\n",
    "    new= val.assign(bidding = bidding, diff= bidding -val['payprice'])\n",
    "    new= new[new['diff'] >= 0]\n",
    "    cost= 0\n",
    "    index= 0\n",
    "    for pay in new.payprice:\n",
    "        cost= pay + cost\n",
    "        index += 1\n",
    "        if cost/1000 >= budget:\n",
    "            break\n",
    "        \n",
    "    \n",
    "    clicks =sum(new['click'][:index])\n",
    "    ctr= clicks/index\n",
    "    spend = sum(new['payprice'][:index])/1000\n",
    "    cpc = spend/clicks\n",
    "    cpm = spend/index\n",
    "    return [ctr,spend,cpc,cpm,clicks]\n",
    "    "
   ]
  },
  {
   "cell_type": "code",
   "execution_count": 34,
   "metadata": {
    "collapsed": true
   },
   "outputs": [],
   "source": [
    "bid_price= non_lin(60)\n",
    "re = validation_budget(bid_price,25000)"
   ]
  },
  {
   "cell_type": "code",
   "execution_count": null,
   "metadata": {
    "collapsed": true
   },
   "outputs": [],
   "source": [
    "b"
   ]
  },
  {
   "cell_type": "code",
   "execution_count": 35,
   "metadata": {
    "collapsed": false
   },
   "outputs": [
    {
     "data": {
      "text/plain": [
       "[0.00074032880330888746,\n",
       " 21237.634999999998,\n",
       " 99.707206572769948,\n",
       " 0.073816116923290806,\n",
       " 213]"
      ]
     },
     "execution_count": 35,
     "metadata": {},
     "output_type": "execute_result"
    }
   ],
   "source": [
    "re"
   ]
  },
  {
   "cell_type": "code",
   "execution_count": 32,
   "metadata": {
    "collapsed": false
   },
   "outputs": [],
   "source": [
    "result= []\n",
    "for c in range(1,100,1):\n",
    "    bid_price= non_lin(c)\n",
    "    re = validation_budget(bid_price,25000)\n",
    "    result.append(re)\n",
    "    \n",
    "clicks =[]\n",
    "spend = []\n",
    "\n",
    "for r in result:\n",
    "    clicks.append(r[4])\n",
    "    spend.append(r[1])"
   ]
  },
  {
   "cell_type": "code",
   "execution_count": 33,
   "metadata": {
    "collapsed": false
   },
   "outputs": [
    {
     "data": {
      "image/png": "[encoded data removed]",
      "text/plain": [
       "<matplotlib.figure.Figure at 0x18ffc17f0>"
      ]
     },
     "metadata": {},
     "output_type": "display_data"
    }
   ],
   "source": [
    "\n",
    "fig, ax1 = plt.subplots()\n",
    "x = range(1,100,1)\n",
    "\n",
    "ax1.plot(x, clicks, 'b-')\n",
    "ax1.set_xlabel('bidding_price')\n",
    "# Make the y-axis label, ticks and tick labels match the line color.\n",
    "ax1.set_ylabel('Clicks', color='b')\n",
    "ax1.tick_params('y', colors='b')\n",
    "\n",
    "ax2 = ax1.twinx()\n",
    "\n",
    "ax2.plot(x, spend, 'r.')\n",
    "ax2.set_ylabel('Spend', color='r')\n",
    "ax2.tick_params('y', colors='r')\n",
    "\n",
    "fig.tight_layout()\n",
    "plt.show()"
   ]
  },
  {
   "cell_type": "code",
   "execution_count": 61,
   "metadata": {
    "collapsed": false
   },
   "outputs": [
    {
     "data": {
      "text/plain": [
       "[0.00075488410012782708,\n",
       " 23589.347000000002,\n",
       " 104.84154222222223,\n",
       " 0.079143213256435807,\n",
       " 225]"
      ]
     },
     "execution_count": 61,
     "metadata": {},
     "output_type": "execute_result"
    }
   ],
   "source": [
    "result"
   ]
  },
  {
   "cell_type": "markdown",
   "metadata": {},
   "source": [
    "# Constant"
   ]
  },
  {
   "cell_type": "code",
   "execution_count": 95,
   "metadata": {
    "collapsed": false
   },
   "outputs": [
    {
     "name": "stdout",
     "output_type": "stream",
     "text": [
      "[0.0011122763530047352, 7143.009, 204.08597142857144, 0.22700000000000001, 35]\n",
      "[0.00077607995721072664, 22422.695, 303.00939189189188, 0.23515951589390777, 74]\n",
      "[0.00077495014306771875, 47089.040000000001, 329.293986013986, 0.25518642157287785, 143]\n",
      "[0.00069064701437358312, 29398.652999999998, 345.8665058823529, 0.23887166965947038, 85]\n",
      "[0.00075396415000550463, 81655.339999999997, 361.306814159292, 0.27241238502880744, 226]\n",
      "[0.00075396415000550463, 81655.339999999997, 361.306814159292, 0.27241238502880744, 226]\n"
     ]
    }
   ],
   "source": [
    "# performance of 6 moments\n",
    "\n",
    "min_ctr=validation([2.270000e+02] * len(val))\n",
    "print(min_ctr)\n",
    "first_q_ctr = validation([2.410000e+02] * len(val))\n",
    "print(first_q_ctr)\n",
    "median_ctr = validation([2.940000e+02] * len(val))\n",
    "print(median_ctr)\n",
    "mean_ctr = validation([2.724582e+02] * len(val))\n",
    "print(mean_ctr)\n",
    "third_q_ctr = validation([3.000000e+02] * len(val))\n",
    "print(third_q_ctr)\n",
    "max_ctr = validation([3.000000e+02] * len(val))\n",
    "print(max_ctr)\n"
   ]
  },
  {
   "cell_type": "code",
   "execution_count": 155,
   "metadata": {
    "collapsed": true
   },
   "outputs": [],
   "source": [
    "constants= []\n",
    "for i in range(227,300):\n",
    "    constants.append(validation(i))  \n",
    "    "
   ]
  },
  {
   "cell_type": "code",
   "execution_count": 157,
   "metadata": {
    "collapsed": true
   },
   "outputs": [],
   "source": [
    "clicks=[]\n",
    "spend=[]\n",
    "for constant in constants:\n",
    "    clicks.append(constant[4])\n",
    "    spend.append(constant[1])\n",
    "    "
   ]
  },
  {
   "cell_type": "code",
   "execution_count": 160,
   "metadata": {
    "collapsed": false
   },
   "outputs": [
    {
     "data": {
      "image/png": "[encoded data removed]",
      "text/plain": [
       "<matplotlib.figure.Figure at 0x13ef4e240>"
      ]
     },
     "metadata": {},
     "output_type": "display_data"
    }
   ],
   "source": [
    "#plt.plot(range(227,300,1),ctr,'bs', range(227,300,1), spend, 'g^')\n",
    "\n",
    "\n",
    "\n",
    "fig, ax1 = plt.subplots()\n",
    "x = range(227,300,1)\n",
    "\n",
    "ax1.plot(x, clicks, 'b-')\n",
    "ax1.set_xlabel('bidding_price')\n",
    "# Make the y-axis label, ticks and tick labels match the line color.\n",
    "ax1.set_ylabel('Clicks', color='b')\n",
    "ax1.tick_params('y', colors='b')\n",
    "\n",
    "ax2 = ax1.twinx()\n",
    "\n",
    "ax2.plot(x, spend, 'r.')\n",
    "ax2.set_ylabel('Spend in Chinese Yuan', color='r')\n",
    "ax2.tick_params('y', colors='r')\n",
    "\n",
    "fig.tight_layout()\n",
    "plt.title('Constant Bidding Performance in range 227:300')\n",
    "plt.show()"
   ]
  },
  {
   "cell_type": "code",
   "execution_count": 109,
   "metadata": {
    "collapsed": false
   },
   "outputs": [
    {
     "data": {
      "text/plain": [
       "(array([ 28.,   9.,   8.,  17.,   0.,   0.,   0.,   0.,   0.,  11.]),\n",
       " array([ 0.00069065,  0.00073281,  0.00077497,  0.00081714,  0.0008593 ,\n",
       "         0.00090146,  0.00094362,  0.00098579,  0.00102795,  0.00107011,\n",
       "         0.00111228]),\n",
       " <a list of 10 Patch objects>)"
      ]
     },
     "execution_count": 109,
     "metadata": {},
     "output_type": "execute_result"
    },
    {
     "data": {
      "image/png": "[encoded data removed]",
      "text/plain": [
       "<matplotlib.figure.Figure at 0x13658f208>"
      ]
     },
     "metadata": {},
     "output_type": "display_data"
    }
   ],
   "source": [
    "plt.hist(ctr)"
   ]
  },
  {
   "cell_type": "markdown",
   "metadata": {},
   "source": [
    "# Random"
   ]
  },
  {
   "cell_type": "code",
   "execution_count": 165,
   "metadata": {
    "collapsed": false
   },
   "outputs": [],
   "source": [
    "import random\n",
    "\n",
    "random_list= []\n",
    "\n",
    "for i in range(0,100):\n",
    "    random_list.append([random.choice(range(227,300,1)) for _ in range(len(val))])\n",
    "  "
   ]
  },
  {
   "cell_type": "code",
   "execution_count": 166,
   "metadata": {
    "collapsed": true
   },
   "outputs": [],
   "source": [
    "output_random =[]\n",
    "for ran in random_list:\n",
    "    output_random.append(validation(ran))"
   ]
  },
  {
   "cell_type": "code",
   "execution_count": 170,
   "metadata": {
    "collapsed": false
   },
   "outputs": [],
   "source": [
    "ctr_=[]\n",
    "cost=[]\n",
    "clicks =[]\n",
    "cpc=[]\n",
    "for out in output_random:\n",
    "    ctr.append(out[0])\n",
    "    cost.append(out[1])\n",
    "    cpc.append(out[2])\n",
    "    clicks.append(out[4])"
   ]
  },
  {
   "cell_type": "code",
   "execution_count": 168,
   "metadata": {
    "collapsed": false
   },
   "outputs": [
    {
     "data": {
      "text/plain": [
       "(array([  1.,   0.,   5.,  11.,  15.,  25.,  17.,  14.,  11.,   1.]),\n",
       " array([ 214. ,  214.9,  215.8,  216.7,  217.6,  218.5,  219.4,  220.3,\n",
       "         221.2,  222.1,  223. ]),\n",
       " <a list of 10 Patch objects>)"
      ]
     },
     "execution_count": 168,
     "metadata": {},
     "output_type": "execute_result"
    },
    {
     "data": {
      "image/png": "[encoded data removed]",
      "text/plain": [
       "<matplotlib.figure.Figure at 0x1f1a67e48>"
      ]
     },
     "metadata": {},
     "output_type": "display_data"
    }
   ],
   "source": [
    "plt.hist(clicks)"
   ]
  },
  {
   "cell_type": "code",
   "execution_count": 169,
   "metadata": {
    "collapsed": false
   },
   "outputs": [
    {
     "data": {
      "text/plain": [
       "(array([  4.,   0.,   3.,  16.,  15.,  19.,  23.,   9.,   9.,   2.]),\n",
       " array([ 22755.364 ,  22760.9708,  22766.5776,  22772.1844,  22777.7912,\n",
       "         22783.398 ,  22789.0048,  22794.6116,  22800.2184,  22805.8252,\n",
       "         22811.432 ]),\n",
       " <a list of 10 Patch objects>)"
      ]
     },
     "execution_count": 169,
     "metadata": {},
     "output_type": "execute_result"
    },
    {
     "data": {
      "image/png": "[encoded data removed]",
      "text/plain": [
       "<matplotlib.figure.Figure at 0x1f1a67128>"
      ]
     },
     "metadata": {},
     "output_type": "display_data"
    }
   ],
   "source": [
    "plt.hist(spend_random)"
   ]
  },
  {
   "cell_type": "code",
   "execution_count": 181,
   "metadata": {
    "collapsed": false
   },
   "outputs": [
    {
     "name": "stderr",
     "output_type": "stream",
     "text": [
      "/Users/chenbo/anaconda/lib/python3.5/site-packages/matplotlib/axes/_axes.py:531: UserWarning: No labelled objects found. Use label='...' kwarg on individual plots.\n",
      "  warnings.warn(\"No labelled objects found. \"\n"
     ]
    },
    {
     "data": {
      "image/png": "[encoded data removed]",
      "text/plain": [
       "<matplotlib.figure.Figure at 0x160e3dcf8>"
      ]
     },
     "metadata": {},
     "output_type": "display_data"
    }
   ],
   "source": [
    "import seaborn as sns\n",
    "\n",
    "fig=plt.figure(figsize=(16,10), dpi=1600)\n",
    "alpha_level=0.65\n",
    "\n",
    "ax1=fig.add_subplot(221)\n",
    "plt.hist(cost,color='pink')\n",
    "plt.title('Histogram of Cost 100 times Random Bidding')\n",
    "\n",
    "ax2=fig.add_subplot(222)\n",
    "plt.hist(ctr,color='lightblue')\n",
    "plt.title('Histogram of CTR 100 times Random Bidding')\n",
    "          \n",
    "ax3=fig.add_subplot(223)\n",
    "plt.hist(cpc,color='lightgreen')\n",
    "plt.title('Histogram of CPC 100 times Random Bidding ')\n",
    "#fit.lognormal.plot_ccdf(ax = fig4, color = 'g', linestyle ='--')\n",
    "\n",
    "ax4=fig.add_subplot(224)\n",
    "plt.hist(clicks,color='red')\n",
    "plt.title('Histogram of Clicks 100 times Random Bidding ')\n",
    "plt.legend()"
   ]
  },
  {
   "cell_type": "code",
   "execution_count": 15,
   "metadata": {
    "collapsed": false
   },
   "outputs": [
    {
     "data": {
      "text/plain": [
       "(array([  4.,   4.,  10.,  12.,  10.,  14.,  25.,  10.,   8.,   3.]),\n",
       " array([ 27276.267 ,  27295.7212,  27315.1754,  27334.6296,  27354.0838,\n",
       "         27373.538 ,  27392.9922,  27412.4464,  27431.9006,  27451.3548,\n",
       "         27470.809 ]),\n",
       " <a list of 10 Patch objects>)"
      ]
     },
     "execution_count": 15,
     "metadata": {},
     "output_type": "execute_result"
    },
    {
     "data": {
      "image/png": "[encoded data removed]",
      "text/plain": [
       "<matplotlib.figure.Figure at 0x10329e4a8>"
      ]
     },
     "metadata": {},
     "output_type": "display_data"
    }
   ],
   "source": [
    "plt.hist(spend_random)"
   ]
  },
  {
   "cell_type": "code",
   "execution_count": 26,
   "metadata": {
    "collapsed": true
   },
   "outputs": [],
   "source": [
    "import random\n",
    "\n",
    "random_list= []\n",
    "\n",
    "for i in range(0,100):\n",
    "    random_list.append([random.choice(range(250,270,1)) for _ in range(len(val))])\n",
    "  "
   ]
  },
  {
   "cell_type": "code",
   "execution_count": 27,
   "metadata": {
    "collapsed": true
   },
   "outputs": [],
   "source": [
    "output_random =[]\n",
    "for ran in random_list:\n",
    "    output_random.append(validation(ran))"
   ]
  },
  {
   "cell_type": "code",
   "execution_count": 28,
   "metadata": {
    "collapsed": true
   },
   "outputs": [],
   "source": [
    "ctr_random=[]\n",
    "spend_random=[]\n",
    "for out in output_random:\n",
    "    ctr_random.append(out[0])\n",
    "    spend_random.append(out[1])"
   ]
  },
  {
   "cell_type": "code",
   "execution_count": 29,
   "metadata": {
    "collapsed": false
   },
   "outputs": [
    {
     "data": {
      "text/plain": [
       "(array([  2.,   5.,   3.,  13.,   2.,  18.,   5.,  33.,   2.,  17.]),\n",
       " array([ 0.00066594,  0.00067014,  0.00067433,  0.00067853,  0.00068273,\n",
       "         0.00068692,  0.00069112,  0.00069532,  0.00069951,  0.00070371,\n",
       "         0.00070791]),\n",
       " <a list of 10 Patch objects>)"
      ]
     },
     "execution_count": 29,
     "metadata": {},
     "output_type": "execute_result"
    },
    {
     "data": {
      "image/png": "[encoded data removed]",
      "text/plain": [
       "<matplotlib.figure.Figure at 0x1091310f0>"
      ]
     },
     "metadata": {},
     "output_type": "display_data"
    }
   ],
   "source": [
    "plt.hist(ctr_random)"
   ]
  },
  {
   "cell_type": "code",
   "execution_count": 30,
   "metadata": {
    "collapsed": false
   },
   "outputs": [
    {
     "data": {
      "text/plain": [
       "(array([  2.,   4.,  12.,  13.,  22.,  13.,  13.,  12.,   6.,   3.]),\n",
       " array([ 28628.017,  28633.351,  28638.685,  28644.019,  28649.353,\n",
       "         28654.687,  28660.021,  28665.355,  28670.689,  28676.023,\n",
       "         28681.357]),\n",
       " <a list of 10 Patch objects>)"
      ]
     },
     "execution_count": 30,
     "metadata": {},
     "output_type": "execute_result"
    },
    {
     "data": {
      "image/png": "[encoded data removed]",
      "text/plain": [
       "<matplotlib.figure.Figure at 0x1091442b0>"
      ]
     },
     "metadata": {},
     "output_type": "display_data"
    }
   ],
   "source": [
    "plt.hist(spend_random)"
   ]
  },
  {
   "cell_type": "code",
   "execution_count": null,
   "metadata": {
    "collapsed": true
   },
   "outputs": [],
   "source": [
    "(23.48/6.36)**0.25"
   ]
  }
 ],
 "metadata": {
  "anaconda-cloud": {},
  "kernelspec": {
   "display_name": "Python 3",
   "language": "python",
   "name": "python3"
  },
  "language_info": {
   "codemirror_mode": {
    "name": "ipython",
    "version": 3
   },
   "file_extension": ".py",
   "mimetype": "text/x-python",
   "name": "python",
   "nbconvert_exporter": "python",
   "pygments_lexer": "ipython3",
   "version": "3.6.0"
  }
 },
 "nbformat": 4,
 "nbformat_minor": 1
}
